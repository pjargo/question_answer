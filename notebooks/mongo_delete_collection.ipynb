{
 "cells": [
  {
   "cell_type": "markdown",
   "id": "810ea5af-72ac-4da4-9d14-a95b6a004788",
   "metadata": {},
   "source": [
    "#### Notebook: delete the contents of a Mongodb collection"
   ]
  },
  {
   "cell_type": "code",
   "execution_count": 39,
   "id": "4121b120-b14b-4a2e-848d-42998a916967",
   "metadata": {
    "tags": []
   },
   "outputs": [],
   "source": [
    "import platform\n",
    "import datetime\n",
    "import os\n",
    "\n",
    "# Set proxy information if windows\n",
    "if platform.system() == \"Windows\":\n",
    "    print(\"Platform is Windows, setting proxy\")\n",
    "    # Get the current date and time\n",
    "    now = datetime.now()\n",
    "    day = now.strftime(\"%A\")\n",
    "    proxy_url = f\"http://33566:{day[0:3]}@proxy-west.aero.org:8080\"\n",
    "\n",
    "    # Set proxy environment variables\n",
    "    os.environ['HTTP_PROXY'] = proxy_url\n",
    "    os.environ['HTTPS_PROXY'] = proxy_url"
   ]
  },
  {
   "cell_type": "code",
   "execution_count": 40,
   "id": "a9db43a4-5684-425f-94ae-e3d6ca99b956",
   "metadata": {
    "tags": []
   },
   "outputs": [],
   "source": [
    "from pymongo.server_api import ServerApi\n",
    "from pymongo.mongo_client import MongoClient\n",
    "from urllib.parse import quote_plus\n",
    "\n",
    "import sys\n",
    "# Get the current working directory (notebooks directory)\n",
    "current_dir = os.getcwd()\n",
    "\n",
    "# Go up one level to the project directory\n",
    "project_dir = os.path.dirname(current_dir)\n",
    "\n",
    "# Assuming your project structure is as described before\n",
    "src_path = os.path.abspath(os.path.join(project_dir, 'src'))\n",
    "\n",
    "# Add the 'src' directory to the Python path\n",
    "sys.path.append(src_path)\n",
    "\n",
    "from question_answer_site.question_answer.mongodb import MongoDb\n",
    "from question_answer_site.question_answer.config import username, password, cluster_url, database_name, \\\n",
    "    mongo_host, mongo_port, mongo_username, mongo_password, mongo_auth_db, mongo_database_name"
   ]
  },
  {
   "cell_type": "code",
   "execution_count": 43,
   "id": "4b65ff89-48ce-4d4b-a04e-3ed8e638a43c",
   "metadata": {
    "tags": []
   },
   "outputs": [],
   "source": [
    "# Specify the collection\n",
    "collection_name = \"parsed_documents\"\n",
    "# collection_name = \"extracted_text\""
   ]
  },
  {
   "cell_type": "code",
   "execution_count": 42,
   "id": "2d6252e7-8214-4021-a735-ad3b17831485",
   "metadata": {
    "tags": []
   },
   "outputs": [],
   "source": [
    "# Escape the username and password\n",
    "escaped_username = quote_plus(username)\n",
    "escaped_password = quote_plus(password)\n",
    "\n",
    "# Aerospace Mongo Credentials\n",
    "aero_escaped_username = quote_plus(mongo_username)\n",
    "aero_escaped_password = quote_plus(mongo_password)"
   ]
  },
  {
   "cell_type": "code",
   "execution_count": 46,
   "id": "3342f677-0d3c-43bb-b5ca-bbc681964f28",
   "metadata": {
    "tags": []
   },
   "outputs": [
    {
     "name": "stdout",
     "output_type": "stream",
     "text": [
      "Pinged your deployment. You successfully connected to MongoDB!\n",
      "Deleting: 'parsed_documents' collection\n",
      "Deleted 502 documents\n"
     ]
    }
   ],
   "source": [
    "# Connect to your MongoDB server and choose a database and collection\n",
    "if platform.system() == \"Darwin\":\n",
    "    # Personal Mongo instance\n",
    "    mongodb = MongoDb(username=escaped_username,\n",
    "                      password=escaped_password,\n",
    "                      cluster_url=cluster_url,\n",
    "                      database_name=database_name,\n",
    "                      collection_name=collection_name)\n",
    "else:\n",
    "    # Aerospace credentials\n",
    "    mongodb = MongoDb(username=aero_escaped_username,\n",
    "                      password=aero_escaped_password,\n",
    "                      database_name=mongo_database_name,\n",
    "                      mongo_host=mongo_host,\n",
    "                      collection_name=collection_name,\n",
    "                      mongo_port=mongo_port,\n",
    "                      mongo_auth_db=mongo_auth_db)\n",
    "\n",
    "if mongodb.connect():\n",
    "    print(f\"Deleting: '{collection_name}' collection\")\n",
    "    # Delete all documents in the collection\n",
    "    result = mongodb.get_collection().delete_many({})\n",
    "\n",
    "    # Print the number of documents deleted\n",
    "    print(f\"Deleted {result.deleted_count} documents\")"
   ]
  },
  {
   "cell_type": "code",
   "execution_count": 38,
   "id": "643852b6-8622-4c27-9462-d78e7022b23e",
   "metadata": {
    "tags": []
   },
   "outputs": [
    {
     "name": "stdout",
     "output_type": "stream",
     "text": [
      "e3-dev-services.e3.aero.org:31523: [Errno 8] nodename nor servname provided, or not known, Timeout: 30s, Topology Description: <TopologyDescription id: 65717b1b7095ee9fa33d3de8, topology_type: Unknown, servers: [<ServerDescription ('e3-dev-services.e3.aero.org', 31523) server_type: Unknown, rtt: None, error=AutoReconnect('e3-dev-services.e3.aero.org:31523: [Errno 8] nodename nor servname provided, or not known')>]>\n"
     ]
    }
   ],
   "source": [
    "# MongoDB connection parameters\n",
    "mongo_host = 'e3-dev-services.e3.aero.org'\n",
    "mongo_port = 31523\n",
    "mongo_username = 'playground_user'\n",
    "mongo_password = 'playground123'\n",
    "mongo_auth_db = 'admin'  # The authentication database\n",
    "database_name = 'playground'  # The name of your database\n",
    "collection_name = 'pased_documents'  # The name of the collection to create\n",
    "\n",
    "try:\n",
    "    # Connect to MongoDB\n",
    "    client = MongoClient(\n",
    "        host=[f\"{mongo_host}:{mongo_port}\"],\n",
    "        username=mongo_username,\n",
    "        password=mongo_password,\n",
    "        authSource=mongo_auth_db,\n",
    "        authMechanism='SCRAM-SHA-256'\n",
    "    )\n",
    "    \n",
    "    client.admin.command('ping')\n",
    "    print(\"Pinged your deployment. You successfully connected to MongoDB!\")\n",
    "    \n",
    "    # Access the desired database\n",
    "    db = client[database_name]\n",
    "    \n",
    "    # Created collection\n",
    "    collection = db[collection_name]\n",
    "    \n",
    "except Exception as e:\n",
    "    print(e)"
   ]
  },
  {
   "cell_type": "code",
   "execution_count": 5,
   "id": "9057633b-2e2f-456b-9d83-62cf8b8e8ab4",
   "metadata": {},
   "outputs": [
    {
     "name": "stdout",
     "output_type": "stream",
     "text": [
      "Deleted 423 documents\n"
     ]
    }
   ],
   "source": [
    "# Delete all documents in the collection\n",
    "result = collection.delete_many({})\n",
    "\n",
    "# Print the number of documents deleted\n",
    "print(f\"Deleted {result.deleted_count} documents\")"
   ]
  },
  {
   "cell_type": "code",
   "execution_count": null,
   "id": "f053eab5-0379-42bd-8a96-ea6f50529da8",
   "metadata": {},
   "outputs": [],
   "source": []
  }
 ],
 "metadata": {
  "kernelspec": {
   "display_name": "Python 3 (ipykernel)",
   "language": "python",
   "name": "python3"
  },
  "language_info": {
   "codemirror_mode": {
    "name": "ipython",
    "version": 3
   },
   "file_extension": ".py",
   "mimetype": "text/x-python",
   "name": "python",
   "nbconvert_exporter": "python",
   "pygments_lexer": "ipython3",
   "version": "3.8.17"
  }
 },
 "nbformat": 4,
 "nbformat_minor": 5
}
