{
 "cells": [
  {
   "cell_type": "markdown",
   "id": "810ea5af-72ac-4da4-9d14-a95b6a004788",
   "metadata": {},
   "source": [
    "#### Notebook: delete the contents of a Mongodb collection"
   ]
  },
  {
   "cell_type": "code",
   "execution_count": 3,
   "id": "a9db43a4-5684-425f-94ae-e3d6ca99b956",
   "metadata": {},
   "outputs": [],
   "source": [
    "from pymongo.server_api import ServerApi\n",
    "from pymongo.mongo_client import MongoClient\n",
    "from urllib.parse import quote_plus"
   ]
  },
  {
   "cell_type": "code",
   "execution_count": 6,
   "id": "4b65ff89-48ce-4d4b-a04e-3ed8e638a43c",
   "metadata": {
    "tags": []
   },
   "outputs": [],
   "source": [
    "# Specify the collection\n",
    "collection_name = \"parsed_documents\"\n",
    "collection_name = \"extracted_text\""
   ]
  },
  {
   "cell_type": "code",
   "execution_count": 7,
   "id": "2d6252e7-8214-4021-a735-ad3b17831485",
   "metadata": {},
   "outputs": [],
   "source": [
    "# MongoDB server connection details\n",
    "username = \"new_user_1\"\n",
    "password = \"password33566\"\n",
    "cluster_url = \"cluster0\"\n",
    "database_name = \"question_answer\"\n",
    "# Escape the username and password\n",
    "escaped_username = quote_plus(username)\n",
    "escaped_password = quote_plus(password)"
   ]
  },
  {
   "cell_type": "code",
   "execution_count": 8,
   "id": "3342f677-0d3c-43bb-b5ca-bbc681964f28",
   "metadata": {},
   "outputs": [
    {
     "name": "stdout",
     "output_type": "stream",
     "text": [
      "Deleted 55 documents\n"
     ]
    }
   ],
   "source": [
    "# Connect to your MongoDB server and choose a database and collection\n",
    "uri = f\"mongodb+srv://{escaped_username}:{escaped_password}@{cluster_url}.pog6zw2.mongodb.net/?retryWrites=true&w=majority\"\n",
    "client = MongoClient(uri)\n",
    "db = client[database_name]\n",
    "collection = db[collection_name]\n",
    "\n",
    "# Delete all documents in the collection\n",
    "result = collection.delete_many({})\n",
    "\n",
    "# Print the number of documents deleted\n",
    "print(f\"Deleted {result.deleted_count} documents\")"
   ]
  },
  {
   "cell_type": "markdown",
   "id": "a586adb0-66b4-4727-8fca-61cdd4153789",
   "metadata": {},
   "source": [
    "#### Mongodb instance Aerospace"
   ]
  },
  {
   "cell_type": "code",
   "execution_count": 4,
   "id": "643852b6-8622-4c27-9462-d78e7022b23e",
   "metadata": {},
   "outputs": [
    {
     "name": "stdout",
     "output_type": "stream",
     "text": [
      "Pinged your deployment. You successfully connected to MongoDB!\n"
     ]
    }
   ],
   "source": [
    "# MongoDB connection parameters\n",
    "mongo_host = 'e3-dev-services.e3.aero.org'\n",
    "mongo_port = 31523\n",
    "mongo_username = 'playground_user'\n",
    "mongo_password = 'playground123'\n",
    "mongo_auth_db = 'admin'  # The authentication database\n",
    "database_name = 'playground'  # The name of your database\n",
    "collection_name = 'pased_documents'  # The name of the collection to create\n",
    "\n",
    "try:\n",
    "    # Connect to MongoDB\n",
    "    client = MongoClient(\n",
    "        host=[f\"{mongo_host}:{mongo_port}\"],\n",
    "        username=mongo_username,\n",
    "        password=mongo_password,\n",
    "        authSource=mongo_auth_db,\n",
    "        authMechanism='SCRAM-SHA-256'\n",
    "    )\n",
    "    \n",
    "    client.admin.command('ping')\n",
    "    print(\"Pinged your deployment. You successfully connected to MongoDB!\")\n",
    "    \n",
    "    # Access the desired database\n",
    "    db = client[database_name]\n",
    "    \n",
    "    # Created collection\n",
    "    collection = db[collection_name]\n",
    "    \n",
    "except Exception as e:\n",
    "    print(e)"
   ]
  },
  {
   "cell_type": "code",
   "execution_count": 5,
   "id": "9057633b-2e2f-456b-9d83-62cf8b8e8ab4",
   "metadata": {},
   "outputs": [
    {
     "name": "stdout",
     "output_type": "stream",
     "text": [
      "Deleted 423 documents\n"
     ]
    }
   ],
   "source": [
    "# Delete all documents in the collection\n",
    "result = collection.delete_many({})\n",
    "\n",
    "# Print the number of documents deleted\n",
    "print(f\"Deleted {result.deleted_count} documents\")"
   ]
  },
  {
   "cell_type": "code",
   "execution_count": null,
   "id": "f053eab5-0379-42bd-8a96-ea6f50529da8",
   "metadata": {},
   "outputs": [],
   "source": []
  }
 ],
 "metadata": {
  "kernelspec": {
   "display_name": "Python 3 (ipykernel)",
   "language": "python",
   "name": "python3"
  },
  "language_info": {
   "codemirror_mode": {
    "name": "ipython",
    "version": 3
   },
   "file_extension": ".py",
   "mimetype": "text/x-python",
   "name": "python",
   "nbconvert_exporter": "python",
   "pygments_lexer": "ipython3",
   "version": "3.8.18"
  }
 },
 "nbformat": 4,
 "nbformat_minor": 5
}
