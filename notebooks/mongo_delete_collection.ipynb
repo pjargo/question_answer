{
 "cells": [
  {
   "cell_type": "markdown",
   "id": "810ea5af-72ac-4da4-9d14-a95b6a004788",
   "metadata": {},
   "source": [
    "#### Notebook: delete the contents of a Mongodb collection"
   ]
  },
  {
   "cell_type": "code",
   "execution_count": 5,
   "id": "a9db43a4-5684-425f-94ae-e3d6ca99b956",
   "metadata": {},
   "outputs": [],
   "source": [
    "from pymongo.server_api import ServerApi\n",
    "from pymongo.mongo_client import MongoClient\n",
    "from urllib.parse import quote_plus"
   ]
  },
  {
   "cell_type": "code",
   "execution_count": 6,
   "id": "4b65ff89-48ce-4d4b-a04e-3ed8e638a43c",
   "metadata": {
    "tags": []
   },
   "outputs": [],
   "source": [
    "# Specify the collection\n",
    "collection_name = \"parsed_documents\"\n",
    "# collection_name = \"extracted_text\""
   ]
  },
  {
   "cell_type": "code",
   "execution_count": 7,
   "id": "2d6252e7-8214-4021-a735-ad3b17831485",
   "metadata": {},
   "outputs": [],
   "source": [
    "# MongoDB server connection details\n",
    "username = \"new_user_1\"\n",
    "password = \"password33566\"\n",
    "cluster_url = \"cluster0\"\n",
    "database_name = \"question_answer\"\n",
    "# Escape the username and password\n",
    "escaped_username = quote_plus(username)\n",
    "escaped_password = quote_plus(password)"
   ]
  },
  {
   "cell_type": "code",
   "execution_count": 8,
   "id": "3342f677-0d3c-43bb-b5ca-bbc681964f28",
   "metadata": {},
   "outputs": [
    {
     "name": "stdout",
     "output_type": "stream",
     "text": [
      "Deleted 369 documents\n"
     ]
    }
   ],
   "source": [
    "# Connect to your MongoDB server and choose a database and collection\n",
    "uri = f\"mongodb+srv://{escaped_username}:{escaped_password}@{cluster_url}.pog6zw2.mongodb.net/?retryWrites=true&w=majority\"\n",
    "client = MongoClient(uri)\n",
    "db = client[database_name]\n",
    "collection = db[collection_name]\n",
    "\n",
    "# Delete all documents in the collection\n",
    "result = collection.delete_many({})\n",
    "\n",
    "# Print the number of documents deleted\n",
    "print(f\"Deleted {result.deleted_count} documents\")"
   ]
  },
  {
   "cell_type": "code",
   "execution_count": null,
   "id": "24390769-89f4-48cd-a22a-5580c8c2613a",
   "metadata": {},
   "outputs": [],
   "source": []
  }
 ],
 "metadata": {
  "kernelspec": {
   "display_name": "Python 3 (ipykernel)",
   "language": "python",
   "name": "python3"
  },
  "language_info": {
   "codemirror_mode": {
    "name": "ipython",
    "version": 3
   },
   "file_extension": ".py",
   "mimetype": "text/x-python",
   "name": "python",
   "nbconvert_exporter": "python",
   "pygments_lexer": "ipython3",
   "version": "3.8.17"
  }
 },
 "nbformat": 4,
 "nbformat_minor": 5
}
