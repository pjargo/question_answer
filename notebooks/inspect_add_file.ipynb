{
 "cells": [
  {
   "cell_type": "markdown",
   "id": "d51b166b-71f2-43f0-8c9a-cfb7c5d96b4a",
   "metadata": {},
   "source": [
    "### Notebook: Before and After Embeddings After Adding Document"
   ]
  },
  {
   "cell_type": "code",
   "execution_count": 142,
   "id": "05a03416-a128-4f2c-8d9e-18702a991a4e",
   "metadata": {
    "tags": []
   },
   "outputs": [],
   "source": [
    "import os\n",
    "import sys\n",
    "# Get the current working directory (notebooks directory)\n",
    "current_dir = os.getcwd()\n",
    "\n",
    "# Go up one level to the project directory\n",
    "project_dir = os.path.dirname(current_dir)\n",
    "\n",
    "# Assuming your project structure is as described before\n",
    "src_path = os.path.abspath(os.path.join(project_dir, 'src'))\n",
    "\n",
    "# Add the 'src' directory to the Python path\n",
    "sys.path.append(src_path)\n",
    "\n",
    "from question_answer_site.question_answer.mongodb import MongoDb\n",
    "from question_answer_site.question_answer.utils import remove_non_word_chars, clean_text, tokens_to_embeddings, \\\n",
    "post_process_output, correct_spelling\n",
    "from question_answer_site.question_answer.config import TOKENIZER, EMBEDDING_MODEL_FNAME, EMBEDDING_MODEL_TYPE, \\\n",
    "TOKENS_EMBEDDINGS, DOCUMENT_EMBEDDING, DOCUMENT_TOKENS, TOP_N, TRANSFORMER_MODEL_NAME, METHOD, MAX_QUERY_LENGTH, \\\n",
    "username, password, cluster_url, database_name\n",
    "\n",
    "from transformers import BertTokenizer, BertForQuestionAnswering, RobertaTokenizer, RobertaForQuestionAnswering\n",
    "from urllib.parse import quote_plus\n",
    "import spacy"
   ]
  },
  {
   "cell_type": "markdown",
   "id": "a1f94b43-470e-48f9-ba07-9e2f45a0b346",
   "metadata": {},
   "source": [
    "#### Parsed Documents"
   ]
  },
  {
   "cell_type": "code",
   "execution_count": 154,
   "id": "68897d3e-73dd-460f-bbbb-c85abf6cf610",
   "metadata": {
    "tags": []
   },
   "outputs": [],
   "source": [
    "escaped_username = quote_plus(username)\n",
    "escaped_password = quote_plus(password)\n",
    "\n",
    "# use MongoDb class to connect to database instance and get the documents\n",
    "mongo_db = MongoDb(escaped_username, escaped_password, cluster_url, database_name, \"parsed_documents\")"
   ]
  },
  {
   "cell_type": "markdown",
   "id": "8e26a810-d832-42f3-8e92-7a0a29220b39",
   "metadata": {},
   "source": [
    "##### Count"
   ]
  },
  {
   "cell_type": "code",
   "execution_count": 144,
   "id": "1eaff123-05b2-4bf8-b519-5dc5b43775f0",
   "metadata": {
    "tags": []
   },
   "outputs": [
    {
     "name": "stdout",
     "output_type": "stream",
     "text": [
      "538 documents in 'parsed_documents'\n"
     ]
    }
   ],
   "source": [
    "# Before\n",
    "if mongo_db.connect():\n",
    "    doc_cnt = mongo_db.count_documents()\n",
    "    print(f\"{doc_cnt} documents in 'parsed_documents'\")"
   ]
  },
  {
   "cell_type": "code",
   "execution_count": 145,
   "id": "8bb47ca2-4b7d-473b-98f5-ff495dfe15ca",
   "metadata": {
    "tags": []
   },
   "outputs": [
    {
     "name": "stdout",
     "output_type": "stream",
     "text": [
      "538 documents in 'parsed_documents'\n"
     ]
    }
   ],
   "source": [
    "# After\n",
    "if mongo_db.connect():\n",
    "    doc_cnt = mongo_db.count_documents()\n",
    "    print(f\"{doc_cnt} documents in 'parsed_documents'\")"
   ]
  },
  {
   "cell_type": "markdown",
   "id": "c3726d80-51ef-40df-8069-62158ebb8d0a",
   "metadata": {},
   "source": [
    "#### Inspect One Document: Embedding"
   ]
  },
  {
   "cell_type": "code",
   "execution_count": 155,
   "id": "33fb13db-ae39-4df0-a340-5fddb6192fea",
   "metadata": {
    "tags": []
   },
   "outputs": [
    {
     "name": "stdout",
     "output_type": "stream",
     "text": [
      "dict_keys(['_id', 'tokens', 'tokens_less_sw', 'token_embeddings_less_sw', 'Document', 'sha_256', 'counter'])\n",
      "\n",
      "printing the first token embedding 'Ġgalaxy':\n",
      "[0.4640600085258484, 0.053341999650001526, -0.029682999476790428, -0.2906079888343811, 0.48579901456832886, -0.1054299995303154, -0.03219600021839142, -0.012400000356137753, -0.5563309788703918, -0.1653430014848709, -0.39154499769210815, 1.1606249809265137, -0.3053390085697174, 0.5109630227088928, -1.2667030096054077, -0.0066019999794662, 0.13386200368404388, -0.713021993637085, -0.37384700775146484, -1.6462559700012207, -0.2543179988861084, 0.3273789882659912, 0.3113360106945038, 0.5228739976882935, 0.49044400453567505, -1.3128349781036377, 0.11598700284957886, 0.3884899914264679, -0.23123499751091003, -0.03806300088763237, -0.7551469802856445, -0.14002199470996857, -0.5331230163574219, 0.09765300154685974, 0.0024649999104440212, 0.31720900535583496, 0.43054598569869995, -0.08259499818086624, 0.40387898683547974, 0.5639659762382507, 0.10513599961996078, 0.04346400126814842, -0.27699199318885803, -0.42980700731277466, 0.0933229997754097, 0.17398600280284882, 0.6872580051422119, -0.20727500319480896, -0.46082401275634766, 0.028172999620437622]\n"
     ]
    }
   ],
   "source": [
    "# Before\n",
    "if mongo_db.connect():\n",
    "    cursor = mongo_db.get_collection().find({\"counter\":1})\n",
    "    data_before = list(cursor)\n",
    "\n",
    "print(data_before[0].keys())\n",
    "\n",
    "print(f\"\\nprinting the first token embedding '{data_before[0]['tokens_less_sw'][0]}':\")\n",
    "print(data_before[0]['token_embeddings_less_sw'][0])"
   ]
  },
  {
   "cell_type": "code",
   "execution_count": 156,
   "id": "0b66843c-44a8-41b6-8fd3-63196032ebfd",
   "metadata": {
    "tags": []
   },
   "outputs": [
    {
     "name": "stdout",
     "output_type": "stream",
     "text": [
      "printing the first token embedding 'Ġgalaxy':\n",
      "[0.4640600085258484, 0.053341999650001526, -0.029682999476790428, -0.2906079888343811, 0.48579901456832886, -0.1054299995303154, -0.03219600021839142, -0.012400000356137753, -0.5563309788703918, -0.1653430014848709, -0.39154499769210815, 1.1606249809265137, -0.3053390085697174, 0.5109630227088928, -1.2667030096054077, -0.0066019999794662, 0.13386200368404388, -0.713021993637085, -0.37384700775146484, -1.6462559700012207, -0.2543179988861084, 0.3273789882659912, 0.3113360106945038, 0.5228739976882935, 0.49044400453567505, -1.3128349781036377, 0.11598700284957886, 0.3884899914264679, -0.23123499751091003, -0.03806300088763237, -0.7551469802856445, -0.14002199470996857, -0.5331230163574219, 0.09765300154685974, 0.0024649999104440212, 0.31720900535583496, 0.43054598569869995, -0.08259499818086624, 0.40387898683547974, 0.5639659762382507, 0.10513599961996078, 0.04346400126814842, -0.27699199318885803, -0.42980700731277466, 0.0933229997754097, 0.17398600280284882, 0.6872580051422119, -0.20727500319480896, -0.46082401275634766, 0.028172999620437622]\n"
     ]
    }
   ],
   "source": [
    "# After\n",
    "if mongo_db.connect():\n",
    "    cursor = mongo_db.get_collection().find({\"counter\":1})\n",
    "    data_after = list(cursor)\n",
    "    \n",
    "print(f\"printing the first token embedding '{data_after[0]['tokens_less_sw'][0]}':\")\n",
    "print(data_after[0]['token_embeddings_less_sw'][0])"
   ]
  },
  {
   "cell_type": "code",
   "execution_count": 148,
   "id": "4e1ffcae-3c60-4fac-aac6-4210c5d80dc5",
   "metadata": {
    "tags": []
   },
   "outputs": [
    {
     "name": "stdout",
     "output_type": "stream",
     "text": [
      "Kosmos 2516 - Wikipedia.pdf\n"
     ]
    }
   ],
   "source": [
    "# Verify new document added with correct name\n",
    "new_doc_name = \"Kosmos 2516 - Wikipedia.pdf\"\n",
    "if mongo_db.connect():\n",
    "    cursor = mongo_db.get_collection().find({\"Document\":new_doc_name})\n",
    "    data = list(cursor)\n",
    "    \n",
    "print(data[0][\"Document\"])"
   ]
  },
  {
   "cell_type": "code",
   "execution_count": 149,
   "id": "99ed4260-df1a-43fd-bfad-7051c77bd2b4",
   "metadata": {
    "tags": []
   },
   "outputs": [],
   "source": [
    "mongo_db.disconnect()"
   ]
  },
  {
   "cell_type": "markdown",
   "id": "652a4f9c-5738-4ee0-bd27-539a8fcaae26",
   "metadata": {},
   "source": [
    "#### Extracted Text"
   ]
  },
  {
   "cell_type": "code",
   "execution_count": 150,
   "id": "26766c35-3d63-43b5-abbd-59f981dacedf",
   "metadata": {
    "tags": []
   },
   "outputs": [],
   "source": [
    "mongo_db = MongoDb(escaped_username, escaped_password, cluster_url, database_name, \"extracted_text\")"
   ]
  },
  {
   "cell_type": "code",
   "execution_count": 151,
   "id": "c13aa3a0-a649-4d69-b53a-5b3da27589ce",
   "metadata": {
    "tags": []
   },
   "outputs": [
    {
     "name": "stdout",
     "output_type": "stream",
     "text": [
      "32 documents in 'parsed_documents'\n"
     ]
    }
   ],
   "source": [
    "# Before\n",
    "if mongo_db.connect():\n",
    "    doc_cnt = mongo_db.count_documents()\n",
    "    print(f\"{doc_cnt} documents in 'parsed_documents'\")"
   ]
  },
  {
   "cell_type": "code",
   "execution_count": 152,
   "id": "4eaab56e-ab5e-4acd-b342-964ba173e2f4",
   "metadata": {
    "tags": []
   },
   "outputs": [
    {
     "name": "stdout",
     "output_type": "stream",
     "text": [
      "32 documents in 'parsed_documents'\n"
     ]
    }
   ],
   "source": [
    "# After\n",
    "if mongo_db.connect():\n",
    "    doc_cnt = mongo_db.count_documents()\n",
    "    print(f\"{doc_cnt} documents in 'parsed_documents'\")"
   ]
  },
  {
   "cell_type": "code",
   "execution_count": 157,
   "id": "2b87d678-646c-4c2a-a1c4-0cec72ce732b",
   "metadata": {
    "tags": []
   },
   "outputs": [],
   "source": [
    "mongo_db.disconnect()"
   ]
  },
  {
   "cell_type": "markdown",
   "id": "450d8ebf-6214-4b37-a74d-282dff5f5722",
   "metadata": {},
   "source": [
    "#### Individual Words"
   ]
  },
  {
   "cell_type": "code",
   "execution_count": 128,
   "id": "2c2ba3b0-4b36-411a-b085-13b49d444ca4",
   "metadata": {
    "tags": []
   },
   "outputs": [
    {
     "data": {
      "text/plain": [
       "'roberta'"
      ]
     },
     "execution_count": 128,
     "metadata": {},
     "output_type": "execute_result"
    }
   ],
   "source": [
    "TOKENIZER"
   ]
  },
  {
   "cell_type": "code",
   "execution_count": 158,
   "id": "3bffded7-9e9f-4a3c-8439-c6778ce3c32b",
   "metadata": {
    "tags": []
   },
   "outputs": [],
   "source": [
    "model = spacy.load(os.path.join(\"..\",\"src\",\"question_answer_site\", \"question_answer\", \"embedding_models\",\n",
    "                                EMBEDDING_MODEL_FNAME.split(\".bin\")[0]))\n",
    "\n",
    "# Set the Tokenizer for your specific BERT model variant\n",
    "bert_base_tokenizer = BertTokenizer.from_pretrained('bert-base-uncased')\n",
    "roberta_tokenizer = RobertaTokenizer.from_pretrained(\"deepset/roberta-base-squad2\", add_prefix_space = True)\n",
    "\n",
    "tokenizers = {'bert': bert_base_tokenizer, 'roberta': roberta_tokenizer}\n",
    "\n",
    "tokenizer = tokenizers[TOKENIZER]\n",
    "\n",
    "words = \"russian kosmos earth\"\n",
    "# words = \"Kosmos 2499[3] was a Russian satellite orbiting the Earth, before breaking up on January 4, 2023.\".lower()\n",
    "tokens = tokenizer.tokenize(words)"
   ]
  },
  {
   "cell_type": "code",
   "execution_count": 159,
   "id": "a461387e-8bb5-4e95-8365-e0459c01a508",
   "metadata": {
    "tags": []
   },
   "outputs": [
    {
     "data": {
      "text/plain": [
       "['Ġr', 'ussian', 'Ġk', 'os', 'mos', 'Ġearth']"
      ]
     },
     "execution_count": 159,
     "metadata": {},
     "output_type": "execute_result"
    }
   ],
   "source": [
    "tokens"
   ]
  },
  {
   "cell_type": "code",
   "execution_count": 160,
   "id": "5f551b0c-4e3d-440b-a5d4-3fac8c7651cc",
   "metadata": {
    "tags": []
   },
   "outputs": [],
   "source": [
    "embeddings_old = dict()\n",
    "for token in tokens:\n",
    "    embedding = model(token)\n",
    "    embeddings_old[token] = embedding.vector.tolist()"
   ]
  },
  {
   "cell_type": "code",
   "execution_count": 139,
   "id": "3ae73aa4-d4d5-4939-840b-7cf70dc68118",
   "metadata": {
    "tags": []
   },
   "outputs": [],
   "source": [
    "embeddings_new = dict()\n",
    "for token in tokens:\n",
    "    embedding = model(token)\n",
    "    embeddings_new[token] = embedding.vector.tolist()"
   ]
  },
  {
   "cell_type": "code",
   "execution_count": 161,
   "id": "fe5e6f26-80dc-46a0-be7d-ad9c884b953a",
   "metadata": {
    "tags": []
   },
   "outputs": [
    {
     "name": "stdout",
     "output_type": "stream",
     "text": [
      "False\n",
      "False\n",
      "False\n",
      "False\n",
      "False\n",
      "False\n"
     ]
    }
   ],
   "source": [
    "print(embeddings_new['Ġr'] == embeddings_old['Ġr'])\n",
    "print(embeddings_new['ussian'] == embeddings_old['ussian'])\n",
    "print(embeddings_new['Ġk'] == embeddings_old['Ġk'])\n",
    "print(embeddings_new['os'] == embeddings_old['os'])\n",
    "print(embeddings_new[\"mos\"] == embeddings_old[\"mos\"])\n",
    "print(embeddings_new['Ġearth'] == embeddings_old['Ġearth'])"
   ]
  },
  {
   "cell_type": "code",
   "execution_count": 163,
   "id": "45f49a73-0aa4-43ec-96cc-70311f05a40a",
   "metadata": {
    "tags": []
   },
   "outputs": [
    {
     "name": "stdout",
     "output_type": "stream",
     "text": [
      "-0.19162699580192566 -0.8270270228385925\n",
      "0.2061620056629181 0.48517701029777527\n",
      "0.9097089767456055 -0.946977972984314\n",
      "0.6142230033874512 0.16698899865150452\n",
      "0.3647550046443939 -0.27535098791122437\n",
      "0.8044229745864868 0.16251100599765778\n",
      "-0.130171999335289 0.5564730167388916\n",
      "0.14237099885940552 0.2210559993982315\n",
      "0.9826949834823608 -0.28651300072669983\n",
      "0.12576499581336975 -0.2730660140514374\n",
      "-0.7192649841308594 0.759548008441925\n",
      "0.6930869817733765 -0.05993900075554848\n",
      "-0.37209099531173706 -0.5526189804077148\n",
      "0.20426400005817413 0.124719999730587\n",
      "1.106840968132019 -0.06790599972009659\n",
      "-0.09339500218629837 0.12285099923610687\n",
      "0.3197210133075714 -0.7005069851875305\n",
      "0.588325023651123 0.5602779984474182\n",
      "0.1696310043334961 -0.2020609974861145\n",
      "0.47122201323509216 0.17398600280284882\n",
      "-0.018806999549269676 0.28056100010871887\n",
      "-0.9990469813346863 -0.8363159894943237\n",
      "-0.2814750075340271 -0.7087500095367432\n",
      "0.7270900011062622 -0.5468050241470337\n",
      "0.9770429730415344 -0.3934760093688965\n",
      "-0.21693700551986694 0.6894639730453491\n",
      "0.5730950236320496 -0.33739998936653137\n",
      "-0.045180998742580414 -1.3443080186843872\n",
      "-0.564903974533081 0.5833590030670166\n",
      "0.015297999605536461 -0.41427600383758545\n",
      "-0.5336840152740479 -0.7354379892349243\n",
      "0.4221140146255493 0.9330559968948364\n",
      "0.10858599841594696 -0.397379994392395\n",
      "-0.33103299140930176 0.8225979804992676\n",
      "0.5937520265579224 0.21696700155735016\n",
      "-0.3802120089530945 0.13379600644111633\n",
      "-0.7760850191116333 0.2559730112552643\n",
      "0.47043201327323914 -0.7971310019493103\n",
      "0.8938189744949341 -0.28477999567985535\n",
      "-0.23902399837970734 0.4664649963378906\n",
      "0.2735869884490967 0.4715670049190521\n",
      "-0.4774380028247833 -0.3918200135231018\n",
      "-0.3644619882106781 0.5412489771842957\n",
      "0.3404200077056885 -0.6747519969940186\n",
      "-0.14250999689102173 -0.1439419984817505\n",
      "-0.2670849859714508 -0.40182098746299744\n",
      "-1.0982999801635742 0.4923189878463745\n",
      "-0.4099760055541992 -0.11911500245332718\n",
      "-0.07866200059652328 -0.658411979675293\n",
      "-1.4812610149383545 -0.225055992603302\n"
     ]
    }
   ],
   "source": [
    "for val1, val2 in zip(embeddings_new['ussian'], embeddings_old[\"mos\"]):\n",
    "    print(val1, val2)"
   ]
  },
  {
   "cell_type": "code",
   "execution_count": null,
   "id": "fb0833d2-934d-4180-bd3a-19224673baf6",
   "metadata": {},
   "outputs": [],
   "source": []
  }
 ],
 "metadata": {
  "kernelspec": {
   "display_name": "Python 3 (ipykernel)",
   "language": "python",
   "name": "python3"
  },
  "language_info": {
   "codemirror_mode": {
    "name": "ipython",
    "version": 3
   },
   "file_extension": ".py",
   "mimetype": "text/x-python",
   "name": "python",
   "nbconvert_exporter": "python",
   "pygments_lexer": "ipython3",
   "version": "3.8.17"
  }
 },
 "nbformat": 4,
 "nbformat_minor": 5
}
