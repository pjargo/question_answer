{
 "cells": [
  {
   "cell_type": "code",
   "execution_count": 10,
   "id": "c9dd3adc",
   "metadata": {
    "tags": []
   },
   "outputs": [],
   "source": [
    "from pymongo.server_api import ServerApi\n",
    "from pymongo.mongo_client import MongoClient\n",
    "from urllib.parse import quote_plus\n",
    "import time\n",
    "from bson.json_util import dumps\n",
    "from mongo import MongoDb"
   ]
  },
  {
   "cell_type": "code",
   "execution_count": null,
   "id": "06fb0e65-7ca5-4007-a06b-f93848e48b1a",
   "metadata": {},
   "outputs": [],
   "source": [
    "username = \"new_user_1\"\n",
    "password = \"password33566\"\n",
    "cluster_url = \"cluster0\"\n",
    "database_name = \"question_answer\"\n",
    "collection_name = \"parsed_documents\"\n",
    "# Escape the username and password\n",
    "escaped_username = quote_plus(username)\n",
    "escaped_password = quote_plus(password)"
   ]
  },
  {
   "cell_type": "code",
   "execution_count": 9,
   "id": "7cb458cd",
   "metadata": {
    "tags": []
   },
   "outputs": [
    {
     "name": "stdout",
     "output_type": "stream",
     "text": [
      "Total documents: 432\n",
      "Time taken to get the answers: 4.808854103088379 seconds\n"
     ]
    }
   ],
   "source": [
    "# Time taken to read and deserialize the contents of the database\n",
    "start_time = time.time()\n",
    "# use MongoDb class to connect to database instance and get the documents\n",
    "mongo_db = MongoDb(escaped_username, escaped_password, cluster_url, database_name, collection_name)\n",
    "\n",
    "if mongo_db.connect():\n",
    "    documents = [document for document in mongo_db.iterate_documents()]\n",
    "    # cursor = mongo_db.get_cursor_all()\n",
    "    # documents = list(cursor)\n",
    "    print(f\"Total documents: {mongo_db.count_documents()}\")\n",
    "    mongo_db.disconnect()\n",
    "\n",
    "end_time = time.time()\n",
    "elapsed_time = end_time - start_time\n",
    "print(f\"Time taken to get the answers: {elapsed_time} seconds\")"
   ]
  },
  {
   "cell_type": "code",
   "execution_count": null,
   "id": "31588bd6-2259-4008-b70a-7f53bbb7f65b",
   "metadata": {},
   "outputs": [],
   "source": []
  }
 ],
 "metadata": {
  "kernelspec": {
   "display_name": "Python 3 (ipykernel)",
   "language": "python",
   "name": "python3"
  },
  "language_info": {
   "codemirror_mode": {
    "name": "ipython",
    "version": 3
   },
   "file_extension": ".py",
   "mimetype": "text/x-python",
   "name": "python",
   "nbconvert_exporter": "python",
   "pygments_lexer": "ipython3",
   "version": "3.8.17"
  }
 },
 "nbformat": 4,
 "nbformat_minor": 5
}
