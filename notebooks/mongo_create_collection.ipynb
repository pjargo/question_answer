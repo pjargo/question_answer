{
 "cells": [
  {
   "cell_type": "code",
   "execution_count": 1,
   "id": "6e70dc9b-5b75-40a0-9d8f-7aaa8e8747fa",
   "metadata": {
    "tags": []
   },
   "outputs": [],
   "source": [
    "from pymongo.server_api import ServerApi\n",
    "from pymongo.mongo_client import MongoClient\n",
    "from urllib.parse import quote_plus\n",
    "from mongo import MongoDb"
   ]
  },
  {
   "cell_type": "code",
   "execution_count": 6,
   "id": "132f253d-3cab-45a0-8a7d-11cffaca6354",
   "metadata": {
    "tags": []
   },
   "outputs": [],
   "source": [
    "username = \"new_user_1\"\n",
    "password = \"password33566\"\n",
    "cluster_url = \"cluster0\"\n",
    "database_name = \"question_answer\"\n",
    "\n",
    "# Escape the username and password\n",
    "escaped_username = quote_plus(username)\n",
    "escaped_password = quote_plus(password)"
   ]
  },
  {
   "cell_type": "code",
   "execution_count": 7,
   "id": "93e0595a-6b77-4f19-ad9a-3715a1c3d723",
   "metadata": {
    "tags": []
   },
   "outputs": [],
   "source": [
    "# Connect to your MongoDB server and choose a database and collection\n",
    "uri = f\"mongodb+srv://{escaped_username}:{escaped_password}@{cluster_url}.pog6zw2.mongodb.net/?retryWrites=true&w=majority\"\n",
    "client = MongoClient(uri)\n",
    "db = client[database_name]"
   ]
  },
  {
   "cell_type": "code",
   "execution_count": 8,
   "id": "d942188e-c315-4ddd-9794-085b6ec9cb43",
   "metadata": {
    "tags": []
   },
   "outputs": [],
   "source": [
    "# Replace \"your_collection_name\" with the desired collection name\n",
    "collection = db.create_collection(\"source_documents\")"
   ]
  },
  {
   "cell_type": "code",
   "execution_count": null,
   "id": "577f66c2-aa0a-4b54-800f-8b9ee878bf07",
   "metadata": {},
   "outputs": [],
   "source": []
  }
 ],
 "metadata": {
  "kernelspec": {
   "display_name": "Python 3 (ipykernel)",
   "language": "python",
   "name": "python3"
  },
  "language_info": {
   "codemirror_mode": {
    "name": "ipython",
    "version": 3
   },
   "file_extension": ".py",
   "mimetype": "text/x-python",
   "name": "python",
   "nbconvert_exporter": "python",
   "pygments_lexer": "ipython3",
   "version": "3.8.17"
  }
 },
 "nbformat": 4,
 "nbformat_minor": 5
}
