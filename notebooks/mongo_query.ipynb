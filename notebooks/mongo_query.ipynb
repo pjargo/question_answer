{
 "cells": [
  {
   "cell_type": "code",
   "execution_count": 1,
   "id": "8b21f999-50a1-493c-9364-0ada86c23085",
   "metadata": {
    "tags": []
   },
   "outputs": [],
   "source": [
    "import os\n",
    "import sys\n",
    "# Get the current working directory (notebooks directory)\n",
    "current_dir = os.getcwd()\n",
    "\n",
    "# Go up one level to the project directory\n",
    "project_dir = os.path.dirname(current_dir)\n",
    "\n",
    "# Assuming your project structure is as described before\n",
    "src_path = os.path.abspath(os.path.join(project_dir, 'src'))\n",
    "\n",
    "# Add the 'src' directory to the Python path\n",
    "sys.path.append(src_path)\n",
    "\n",
    "from question_answer_site.question_answer.mongodb import MongoDb\n",
    "from urllib.parse import quote_plus\n",
    "import json"
   ]
  },
  {
   "cell_type": "code",
   "execution_count": 2,
   "id": "e53109a0-9068-45a0-a752-f8e4b34e1e82",
   "metadata": {
    "tags": []
   },
   "outputs": [],
   "source": [
    "username = \"new_user_1\"\n",
    "password = \"password33566\"\n",
    "# Escape the username and password\n",
    "escaped_username = quote_plus(username)\n",
    "escaped_password = quote_plus(password)\n",
    "\n",
    "cluster_url = \"cluster0\"\n",
    "database_name = \"question_answer\"\n",
    "\n",
    "collection_name = \"parsed_documents\"\n",
    "# collection_name = \"extracted_text\""
   ]
  },
  {
   "cell_type": "code",
   "execution_count": 5,
   "id": "fbdad4e4-2406-4c87-8c84-5246acff234b",
   "metadata": {
    "tags": []
   },
   "outputs": [
    {
     "name": "stdout",
     "output_type": "stream",
     "text": [
      "503\n"
     ]
    }
   ],
   "source": [
    "mongodb = MongoDb(escaped_username, escaped_password, cluster_url, database_name, collection_name)\n",
    "if mongodb.connect():\n",
    "    # documents = mongodb.get_documents(query={},\n",
    "    #                                    inclusion={\"tokens\":1, \"tokens_less_sw\":1, \"counter\":1, \"_id\":0})\n",
    "    document = mongodb.get_documents({\"Document\": \"Jupiter-3 deploys solar arrays and antennas in orbit.txt\"})\n",
    "    print(mongodb.count_documents())\n",
    "    # cursor = mongodb.get_collection().find({\"Document\": \"Starlink - Wikipedia.pdf\"})"
   ]
  },
  {
   "cell_type": "code",
   "execution_count": 7,
   "id": "14b73734-c453-40e0-86c6-384aaab72f3c",
   "metadata": {
    "tags": []
   },
   "outputs": [],
   "source": [
    "# json_data = json.dumps(cursor)\n",
    "data = list(document)"
   ]
  },
  {
   "cell_type": "code",
   "execution_count": 11,
   "id": "91e14f37-13fe-48bb-82b9-801e51aa4b84",
   "metadata": {
    "tags": []
   },
   "outputs": [
    {
     "name": "stdout",
     "output_type": "stream",
     "text": [
      "445\n"
     ]
    }
   ],
   "source": [
    "print(len(data[0]['tokens']))"
   ]
  },
  {
   "cell_type": "code",
   "execution_count": 14,
   "id": "d393814b-e881-4f76-b377-b6e7287ee5be",
   "metadata": {
    "tags": []
   },
   "outputs": [
    {
     "name": "stdout",
     "output_type": "stream",
     "text": [
      "['a', 'b']\n"
     ]
    }
   ],
   "source": [
    "c = {\"a\":1,\"b\":2}\n",
    "print(list(c))"
   ]
  },
  {
   "cell_type": "code",
   "execution_count": 12,
   "id": "f1437f48-30ea-488f-ae63-02d9a2b7a218",
   "metadata": {},
   "outputs": [],
   "source": [
    "string = \"\"\"SAN FRANCISCO – EchoStar’s Jupiter-3, the world’s heaviest commercial communications satellite, is performing as expected after deploying solar arrays and antennas in geostationary orbit.\n",
    "\n",
    "Maxar Technologies built the nine metric ton Ka-band satellite and supplied its solar panels. L3Harris Technologies manufactured antennas for Jupiter-3.\n",
    "\n",
    "That satellite that traveled to geostationary transfer orbit July 28 on a SpaceX Falcon Heavy Rocket has reached its 95 degrees west orbital slot at an altitude of 35,786 kilometers.\n",
    "\n",
    "Antennas Deployed\n",
    "L3Harris announced the successfully deployment Nov. 20 of Jupiter-3’s four large reflector antennas.\n",
    "\n",
    "“The L3Harris-built reflectors onboard the Jupiter-3 communications satellite are based on materials and configurations deployed on similar communication satellites — utilizing flight proven materials and subassemblies,” Colin Mitchell, L3Harris RF Systems vice president and general manager, told SpaceNews by email. “The reflectors onboard Jupiter-3 offer proven design and assembly processes as other large reflectors that have been manufactured in our Florida facility.”\n",
    "\n",
    "Still, it remains challenging to design and configure antennas for ultra-high-capacity communications satellites that fit inside standard launch fairings. To accomplish the objective, L3Harris relies on advanced technology and sophisticated packaging techniques, Mitchell said.\n",
    "\n",
    "Ground System Testing\n",
    "With the antennas deployed, Echostar’s Hughes Network Systems is testing Jupiter-3’s ability to communicate with ground systems. Once testing is completed, Jupiter-3 is expected to provide more than 500 gigabits per second of broadband capacity for Hughesnet customers including airlines, corporations, governments and consumers in North and South America.\n",
    "\n",
    "Hughes expects Jupiter-3 to enter service by the end of the year.\n",
    "\n",
    "“As the largest commercial satellite ever built, Jupiter-3 will double the capacity of our fleet, serving more customers who live beyond the reach of cable and fiber internet by providing ubiquitous connectivity throughout the Americas,” Echostar CEO Hamid Akhavan said in a statement.\"\"\""
   ]
  },
  {
   "cell_type": "code",
   "execution_count": 16,
   "id": "6fb8affb-9350-49d3-a9c5-12a5bc973410",
   "metadata": {
    "tags": []
   },
   "outputs": [
    {
     "ename": "NameError",
     "evalue": "name 'tokenizer' is not defined",
     "output_type": "error",
     "traceback": [
      "\u001b[0;31m---------------------------------------------------------------------------\u001b[0m",
      "\u001b[0;31mNameError\u001b[0m                                 Traceback (most recent call last)",
      "Cell \u001b[0;32mIn[16], line 1\u001b[0m\n\u001b[0;32m----> 1\u001b[0m \u001b[38;5;28mlen\u001b[39m(\u001b[43mtokenizer\u001b[49m\u001b[38;5;241m.\u001b[39mtokenize(string))\n",
      "\u001b[0;31mNameError\u001b[0m: name 'tokenizer' is not defined"
     ]
    }
   ],
   "source": [
    "len(tokenizer.tokenize(string))"
   ]
  },
  {
   "cell_type": "code",
   "execution_count": null,
   "id": "7444dab8-52a7-4e43-94e7-a74ebfc8bbbf",
   "metadata": {},
   "outputs": [],
   "source": []
  }
 ],
 "metadata": {
  "kernelspec": {
   "display_name": "Python 3 (ipykernel)",
   "language": "python",
   "name": "python3"
  },
  "language_info": {
   "codemirror_mode": {
    "name": "ipython",
    "version": 3
   },
   "file_extension": ".py",
   "mimetype": "text/x-python",
   "name": "python",
   "nbconvert_exporter": "python",
   "pygments_lexer": "ipython3",
   "version": "3.8.17"
  }
 },
 "nbformat": 4,
 "nbformat_minor": 5
}
