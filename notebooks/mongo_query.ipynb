{
 "cells": [
  {
   "cell_type": "code",
   "execution_count": 1,
   "id": "8b21f999-50a1-493c-9364-0ada86c23085",
   "metadata": {
    "tags": []
   },
   "outputs": [],
   "source": [
    "import os\n",
    "import sys\n",
    "# Get the current working directory (notebooks directory)\n",
    "current_dir = os.getcwd()\n",
    "\n",
    "# Go up one level to the project directory\n",
    "project_dir = os.path.dirname(current_dir)\n",
    "\n",
    "# Assuming your project structure is as described before\n",
    "src_path = os.path.abspath(os.path.join(project_dir, 'src'))\n",
    "\n",
    "# Add the 'src' directory to the Python path\n",
    "sys.path.append(src_path)\n",
    "\n",
    "from question_answer_site.question_answer.mongodb import MongoDb\n",
    "from urllib.parse import quote_plus\n",
    "import json"
   ]
  },
  {
   "cell_type": "code",
   "execution_count": 2,
   "id": "e53109a0-9068-45a0-a752-f8e4b34e1e82",
   "metadata": {
    "tags": []
   },
   "outputs": [],
   "source": [
    "username = \"new_user_1\"\n",
    "password = \"password33566\"\n",
    "# Escape the username and password\n",
    "escaped_username = quote_plus(username)\n",
    "escaped_password = quote_plus(password)\n",
    "\n",
    "cluster_url = \"cluster0\"\n",
    "database_name = \"question_answer\"\n",
    "\n",
    "collection_name = \"parsed_documents\"\n",
    "# collection_name = \"extracted_text\""
   ]
  },
  {
   "cell_type": "code",
   "execution_count": 5,
   "id": "fbdad4e4-2406-4c87-8c84-5246acff234b",
   "metadata": {
    "tags": []
   },
   "outputs": [
    {
     "name": "stdout",
     "output_type": "stream",
     "text": [
      "502\n"
     ]
    }
   ],
   "source": [
    "mongodb = MongoDb(escaped_username, escaped_password, cluster_url, database_name, collection_name)\n",
    "if mongodb.connect():\n",
    "    documents = mongodb.get_documents(query={},\n",
    "                                       filter={\"tokens\":1, \"tokens_less_sw\":1, \"counter\":1, \"_id\":0})\n",
    "    print(mongodb.count_documents())\n",
    "    # cursor = mongodb.get_collection().find({\"Document\": \"Starlink - Wikipedia.pdf\"})"
   ]
  },
  {
   "cell_type": "code",
   "execution_count": 6,
   "id": "14b73734-c453-40e0-86c6-384aaab72f3c",
   "metadata": {
    "tags": []
   },
   "outputs": [],
   "source": [
    "# json_data = json.dumps(cursor)\n",
    "data = list(documents)"
   ]
  },
  {
   "cell_type": "code",
   "execution_count": 9,
   "id": "91e14f37-13fe-48bb-82b9-801e51aa4b84",
   "metadata": {
    "tags": []
   },
   "outputs": [
    {
     "data": {
      "text/plain": [
       "dict_keys(['tokens', 'tokens_less_sw', 'counter'])"
      ]
     },
     "execution_count": 9,
     "metadata": {},
     "output_type": "execute_result"
    }
   ],
   "source": [
    "data[0].keys()"
   ]
  },
  {
   "cell_type": "code",
   "execution_count": 14,
   "id": "d393814b-e881-4f76-b377-b6e7287ee5be",
   "metadata": {
    "tags": []
   },
   "outputs": [
    {
     "name": "stdout",
     "output_type": "stream",
     "text": [
      "['a', 'b']\n"
     ]
    }
   ],
   "source": [
    "c = {\"a\":1,\"b\":2}\n",
    "print(list(c))"
   ]
  },
  {
   "cell_type": "code",
   "execution_count": null,
   "id": "f1437f48-30ea-488f-ae63-02d9a2b7a218",
   "metadata": {},
   "outputs": [],
   "source": []
  }
 ],
 "metadata": {
  "kernelspec": {
   "display_name": "Python 3 (ipykernel)",
   "language": "python",
   "name": "python3"
  },
  "language_info": {
   "codemirror_mode": {
    "name": "ipython",
    "version": 3
   },
   "file_extension": ".py",
   "mimetype": "text/x-python",
   "name": "python",
   "nbconvert_exporter": "python",
   "pygments_lexer": "ipython3",
   "version": "3.8.17"
  }
 },
 "nbformat": 4,
 "nbformat_minor": 5
}
