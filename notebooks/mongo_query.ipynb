{
 "cells": [
  {
   "cell_type": "code",
   "execution_count": 1,
   "id": "8b21f999-50a1-493c-9364-0ada86c23085",
   "metadata": {
    "tags": []
   },
   "outputs": [],
   "source": [
    "import os\n",
    "import sys\n",
    "# Get the current working directory (notebooks directory)\n",
    "current_dir = os.getcwd()\n",
    "\n",
    "# Go up one level to the project directory\n",
    "project_dir = os.path.dirname(current_dir)\n",
    "\n",
    "# Assuming your project structure is as described before\n",
    "src_path = os.path.abspath(os.path.join(project_dir, 'src'))\n",
    "\n",
    "# Add the 'src' directory to the Python path\n",
    "sys.path.append(src_path)\n",
    "\n",
    "from question_answer_site.question_answer.mongodb import MongoDb\n",
    "from question_answer_site.question_answer.config import username, password, cluster_url, database_name, \\\n",
    "    mongo_host, mongo_port, mongo_username, mongo_password, mongo_auth_db, mongo_database_name\n",
    "from urllib.parse import quote_plus\n",
    "import json"
   ]
  },
  {
   "cell_type": "code",
   "execution_count": 2,
   "id": "e53109a0-9068-45a0-a752-f8e4b34e1e82",
   "metadata": {
    "tags": []
   },
   "outputs": [],
   "source": [
    "# Escape the username and password\n",
    "escaped_username = quote_plus(username)\n",
    "escaped_password = quote_plus(password)\n",
    "\n",
    "mongo_escaped_username = quote_plus(mongo_username)\n",
    "mongo_escaped_password = quote_plus(mongo_password)\n",
    "\n",
    "collection_name = \"parsed_documents\"\n",
    "# collection_name = \"extracted_text\""
   ]
  },
  {
   "cell_type": "code",
   "execution_count": 5,
   "id": "6668ef44-b05c-43f4-946b-4dcc4c6bbb37",
   "metadata": {
    "tags": []
   },
   "outputs": [],
   "source": [
    "# Use MongoDb class to connect to database instance and get the documents\n",
    "# mongodb = MongoDb(username=escaped_username, \n",
    "#           password= escaped_password, \n",
    "#           cluster_url=cluster_url, \n",
    "#           database_name=database_name,\n",
    "#           collection_name=\"extracted_text\")\n",
    "\n",
    "# Aerospace credentials\n",
    "mongodb = MongoDb(username=mongo_escaped_username, \n",
    "                  password= mongo_escaped_password, \n",
    "                  database_name=mongo_database_name,\n",
    "                  mongo_host=mongo_host,\n",
    "                  collection_name=collection_name,\n",
    "                  mongo_port=mongo_port,\n",
    "                  mongo_auth_db=mongo_auth_db)"
   ]
  },
  {
   "cell_type": "code",
   "execution_count": 9,
   "id": "fbdad4e4-2406-4c87-8c84-5246acff234b",
   "metadata": {
    "tags": []
   },
   "outputs": [
    {
     "name": "stdout",
     "output_type": "stream",
     "text": [
      "Pinged your deployment. You successfully connected to MongoDB!\n",
      "509\n"
     ]
    }
   ],
   "source": [
    "if mongodb.connect():\n",
    "    # documents = mongodb.get_documents(query={},\n",
    "    #                                    inclusion={\"tokens\":1, \"tokens_less_sw\":1, \"counter\":1, \"_id\":0})\n",
    "    document = mongodb.get_documents({\"Document\": \"Kepler-11 - Wikipedia.pdf\"})\n",
    "    print(mongodb.count_documents())\n",
    "    # cursor = mongodb.get_collection().find({\"Document\": \"Starlink - Wikipedia.pdf\"})"
   ]
  },
  {
   "cell_type": "code",
   "execution_count": 10,
   "id": "14b73734-c453-40e0-86c6-384aaab72f3c",
   "metadata": {
    "tags": []
   },
   "outputs": [],
   "source": [
    "# json_data = json.dumps(cursor)\n",
    "data = list(document)"
   ]
  },
  {
   "cell_type": "code",
   "execution_count": 12,
   "id": "fbfc16bc-e30e-4b32-ac32-8b0b40e74854",
   "metadata": {
    "tags": []
   },
   "outputs": [
    {
     "data": {
      "text/plain": [
       "dict_keys(['_id', 'tokens', 'tokens_less_sw', 'token_embeddings_less_sw', 'Document', 'sha_256', 'counter'])"
      ]
     },
     "execution_count": 12,
     "metadata": {},
     "output_type": "execute_result"
    }
   ],
   "source": [
    "data[0].keys()"
   ]
  },
  {
   "cell_type": "code",
   "execution_count": 11,
   "id": "91e14f37-13fe-48bb-82b9-801e51aa4b84",
   "metadata": {
    "tags": []
   },
   "outputs": [
    {
     "name": "stdout",
     "output_type": "stream",
     "text": [
      "450\n"
     ]
    }
   ],
   "source": [
    "print(len(data[0]['tokens']))"
   ]
  },
  {
   "cell_type": "code",
   "execution_count": 12,
   "id": "f1437f48-30ea-488f-ae63-02d9a2b7a218",
   "metadata": {},
   "outputs": [],
   "source": [
    "string = \"\"\"SAN FRANCISCO – EchoStar’s Jupiter-3, the world’s heaviest commercial communications satellite, is performing as expected after deploying solar arrays and antennas in geostationary orbit.\n",
    "\n",
    "Maxar Technologies built the nine metric ton Ka-band satellite and supplied its solar panels. L3Harris Technologies manufactured antennas for Jupiter-3.\n",
    "\n",
    "That satellite that traveled to geostationary transfer orbit July 28 on a SpaceX Falcon Heavy Rocket has reached its 95 degrees west orbital slot at an altitude of 35,786 kilometers.\n",
    "\n",
    "Antennas Deployed\n",
    "L3Harris announced the successfully deployment Nov. 20 of Jupiter-3’s four large reflector antennas.\n",
    "\n",
    "“The L3Harris-built reflectors onboard the Jupiter-3 communications satellite are based on materials and configurations deployed on similar communication satellites — utilizing flight proven materials and subassemblies,” Colin Mitchell, L3Harris RF Systems vice president and general manager, told SpaceNews by email. “The reflectors onboard Jupiter-3 offer proven design and assembly processes as other large reflectors that have been manufactured in our Florida facility.”\n",
    "\n",
    "Still, it remains challenging to design and configure antennas for ultra-high-capacity communications satellites that fit inside standard launch fairings. To accomplish the objective, L3Harris relies on advanced technology and sophisticated packaging techniques, Mitchell said.\n",
    "\n",
    "Ground System Testing\n",
    "With the antennas deployed, Echostar’s Hughes Network Systems is testing Jupiter-3’s ability to communicate with ground systems. Once testing is completed, Jupiter-3 is expected to provide more than 500 gigabits per second of broadband capacity for Hughesnet customers including airlines, corporations, governments and consumers in North and South America.\n",
    "\n",
    "Hughes expects Jupiter-3 to enter service by the end of the year.\n",
    "\n",
    "“As the largest commercial satellite ever built, Jupiter-3 will double the capacity of our fleet, serving more customers who live beyond the reach of cable and fiber internet by providing ubiquitous connectivity throughout the Americas,” Echostar CEO Hamid Akhavan said in a statement.\"\"\""
   ]
  }
 ],
 "metadata": {
  "kernelspec": {
   "display_name": "Python 3 (ipykernel)",
   "language": "python",
   "name": "python3"
  },
  "language_info": {
   "codemirror_mode": {
    "name": "ipython",
    "version": 3
   },
   "file_extension": ".py",
   "mimetype": "text/x-python",
   "name": "python",
   "nbconvert_exporter": "python",
   "pygments_lexer": "ipython3",
   "version": "3.8.17"
  }
 },
 "nbformat": 4,
 "nbformat_minor": 5
}
