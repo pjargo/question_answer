{
 "cells": [
  {
   "cell_type": "markdown",
   "id": "26705118-b459-4fb3-a59d-cf16ebda2cba",
   "metadata": {},
   "source": [
    "#### Notebook: Write data to the Mongodb collections"
   ]
  },
  {
   "cell_type": "code",
   "execution_count": 1,
   "id": "bb0ce09b-04e8-4cf6-943f-a30eb8868fa0",
   "metadata": {
    "tags": []
   },
   "outputs": [],
   "source": [
    "from mongo import MongoDb\n",
    "from urllib.parse import quote_plus\n",
    "import os\n",
    "import json"
   ]
  },
  {
   "cell_type": "code",
   "execution_count": 6,
   "id": "85d9d5f8-d68d-4510-ac7e-7e2f14bcdc7a",
   "metadata": {
    "tags": []
   },
   "outputs": [],
   "source": [
    "# specify the collection\n",
    "collection_name = \"parsed_documents\"\n",
    "# collection_name = \"extracted_text\""
   ]
  },
  {
   "cell_type": "code",
   "execution_count": 7,
   "id": "400d6994-e275-4f10-a21b-7e26315a6369",
   "metadata": {
    "tags": []
   },
   "outputs": [],
   "source": [
    "username = \"new_user_1\"\n",
    "password = \"password33566\"\n",
    "# Escape the username and password\n",
    "escaped_username = quote_plus(username)\n",
    "escaped_password = quote_plus(password)\n",
    "\n",
    "cluster_url = \"cluster0\"\n",
    "database_name = \"question_answer\""
   ]
  },
  {
   "cell_type": "code",
   "execution_count": 8,
   "id": "39737532-faec-4de1-952e-25db7ca7cf2b",
   "metadata": {
    "tags": []
   },
   "outputs": [
    {
     "name": "stdout",
     "output_type": "stream",
     "text": [
      "Data inserted successfully!\n"
     ]
    }
   ],
   "source": [
    "# Create a MongoClient and connect to the server\n",
    "mongodb = MongoDb(escaped_username, escaped_password, cluster_url, database_name, collection_name)\n",
    "mongodb.connect()\n",
    "# Step 4: Read JSON files and insert documents into the collection\n",
    "data_dir = os.path.join(\"..\", \"data\", \"space_based_pdfs_roberta_parsed\")\n",
    "\n",
    "# List all JSON files in the directory\n",
    "json_files = [f for f in os.listdir(data_dir) if f.endswith('.json')]\n",
    "\n",
    "document_tracker = set()\n",
    "for json_file in json_files:\n",
    "    with open(os.path.join(data_dir, json_file), 'r') as file:\n",
    "        # Load JSON data from the file\n",
    "        json_data = json.load(file)\n",
    "        \n",
    "        # 'extracted_text'\n",
    "        json_data.pop('Original_Text')\n",
    "        json_data.pop('Text')\n",
    "        \n",
    "        # -\n",
    "        json_data.pop('language')\n",
    "        json_data.pop('language_probability')\n",
    "        json_data.pop('Path')\n",
    "        json_data.pop('token_embeddings')\n",
    "        json_data.pop('chunk_text')\n",
    "        json_data.pop('chunk_text_less_sw')\n",
    "        \n",
    "        # 'parsed_documents'\n",
    "        # json_data.pop('counter')\n",
    "        # json_data.pop('token_embeddings_less_sw')\n",
    "        # json_data.pop('tokens_less_sw')\n",
    "        # json_data.pop('tokens')\n",
    "        \n",
    "        # Insert the JSON data as a document into the collection\n",
    "        # if json_data['Document'] not in document_tracker:\n",
    "        #     document_tracker.add(json_data['Document'])\n",
    "        #     mongodb.insert_document(json_data)\n",
    "        mongodb.insert_document(json_data)\n",
    "        \n",
    "print(\"Data inserted successfully!\")\n",
    "\n",
    "# Close the MongoDB client when done\n",
    "mongodb.disconnect()"
   ]
  },
  {
   "cell_type": "code",
   "execution_count": 9,
   "id": "a95831bc-002d-4184-8c60-71a28ae477f5",
   "metadata": {
    "tags": []
   },
   "outputs": [
    {
     "name": "stdout",
     "output_type": "stream",
     "text": [
      "322\n"
     ]
    }
   ],
   "source": [
    "mongodb.connect()\n",
    "doc_cnt = mongodb.count_documents()\n",
    "print(doc_cnt)\n",
    "mongodb.disconnect()"
   ]
  },
  {
   "cell_type": "code",
   "execution_count": null,
   "id": "6cb080a7-941d-483c-b713-272832f62c41",
   "metadata": {},
   "outputs": [],
   "source": []
  }
 ],
 "metadata": {
  "kernelspec": {
   "display_name": "Python 3 (ipykernel)",
   "language": "python",
   "name": "python3"
  },
  "language_info": {
   "codemirror_mode": {
    "name": "ipython",
    "version": 3
   },
   "file_extension": ".py",
   "mimetype": "text/x-python",
   "name": "python",
   "nbconvert_exporter": "python",
   "pygments_lexer": "ipython3",
   "version": "3.8.17"
  }
 },
 "nbformat": 4,
 "nbformat_minor": 5
}
