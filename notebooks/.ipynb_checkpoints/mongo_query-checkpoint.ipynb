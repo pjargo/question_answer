{
 "cells": [
  {
   "cell_type": "code",
   "execution_count": 9,
   "id": "d468a052-6188-4bf8-a838-d165e84e2130",
   "metadata": {
    "tags": []
   },
   "outputs": [],
   "source": [
    "import platform\n",
    "import datetime\n",
    "import os\n",
    "\n",
    "# Set proxy information if windows\n",
    "if platform.system() == \"Windows\":\n",
    "    print(\"Platform is Windows, setting proxy\")\n",
    "    # Get the current date and time\n",
    "    now = datetime.datetime.now()\n",
    "    day = now.strftime(\"%A\")\n",
    "    proxy_url = f\"http://33566:{day[0:3]}@proxy-west.aero.org:8080\"\n",
    "\n",
    "    # Set proxy environment variables\n",
    "    os.environ['HTTP_PROXY'] = proxy_url\n",
    "    os.environ['HTTPS_PROXY'] = proxy_url"
   ]
  },
  {
   "cell_type": "code",
   "execution_count": 1,
   "id": "8b21f999-50a1-493c-9364-0ada86c23085",
   "metadata": {
    "tags": []
   },
   "outputs": [],
   "source": [
    "import sys\n",
    "# Get the current working directory (notebooks directory)\n",
    "current_dir = os.getcwd()\n",
    "\n",
    "# Go up one level to the project directory\n",
    "project_dir = os.path.dirname(current_dir)\n",
    "\n",
    "# Assuming your project structure is as described before\n",
    "src_path = os.path.abspath(os.path.join(project_dir, 'src'))\n",
    "\n",
    "# Add the 'src' directory to the Python path\n",
    "sys.path.append(src_path)\n",
    "\n",
    "from question_answer_site.question_answer.mongodb import MongoDb\n",
    "from question_answer_site.question_answer.config import username, password, cluster_url, database_name, \\\n",
    "    mongo_host, mongo_port, mongo_username, mongo_password, mongo_auth_db, mongo_database_name\n",
    "from urllib.parse import quote_plus\n",
    "import json\n",
    "import platform"
   ]
  },
  {
   "cell_type": "code",
   "execution_count": 2,
   "id": "e53109a0-9068-45a0-a752-f8e4b34e1e82",
   "metadata": {
    "tags": []
   },
   "outputs": [],
   "source": [
    "# Escape the username and password\n",
    "escaped_username = quote_plus(username)\n",
    "escaped_password = quote_plus(password)\n",
    "\n",
    "mongo_escaped_username = quote_plus(mongo_username)\n",
    "mongo_escaped_password = quote_plus(mongo_password)\n",
    "\n",
    "# collection_name = \"parsed_documents\"\n",
    "collection_name = \"extracted_text\""
   ]
  },
  {
   "cell_type": "code",
   "execution_count": 3,
   "id": "6668ef44-b05c-43f4-946b-4dcc4c6bbb37",
   "metadata": {
    "tags": []
   },
   "outputs": [],
   "source": [
    "# Connect to your MongoDB server and choose a database and collection\n",
    "if platform.system() == \"Darwin\":\n",
    "    # Personal Mongo instance\n",
    "    mongodb = MongoDb(username=escaped_username,\n",
    "                      password=escaped_password,\n",
    "                      cluster_url=cluster_url,\n",
    "                      database_name=database_name,\n",
    "                      collection_name=collection_name)\n",
    "else:\n",
    "    # Aerospace credentials\n",
    "    mongodb = MongoDb(username=aero_escaped_username,\n",
    "                      password=aero_escaped_password,\n",
    "                      database_name=mongo_database_name,\n",
    "                      mongo_host=mongo_host,\n",
    "                      collection_name=collection_name,\n",
    "                      mongo_port=mongo_port,\n",
    "                      mongo_auth_db=mongo_auth_db)"
   ]
  },
  {
   "cell_type": "code",
   "execution_count": 4,
   "id": "50b619ed-e008-4649-b350-e7c5fe3d7fd7",
   "metadata": {
    "tags": []
   },
   "outputs": [
    {
     "data": {
      "text/plain": [
       "'extracted_text'"
      ]
     },
     "execution_count": 4,
     "metadata": {},
     "output_type": "execute_result"
    }
   ],
   "source": [
    "collection_name"
   ]
  },
  {
   "cell_type": "code",
   "execution_count": 5,
   "id": "fbdad4e4-2406-4c87-8c84-5246acff234b",
   "metadata": {
    "tags": []
   },
   "outputs": [
    {
     "name": "stdout",
     "output_type": "stream",
     "text": [
      "Pinged your deployment. You successfully connected to MongoDB!\n",
      "extracted_text\n",
      "extracted_text\n",
      "974\n",
      "extracted_text\n"
     ]
    }
   ],
   "source": [
    "if mongodb.connect():\n",
    "    # documents = mongodb.get_documents(query={},\n",
    "    #                                    inclusion={\"tokens\":1, \"tokens_less_sw\":1, \"counter\":1, \"_id\":0})\n",
    "    document = mongodb.get_documents({\"Document\": \"Kepler-11 - Wikipedia.pdf\"})\n",
    "    print(mongodb.count_documents())\n",
    "    cursor = mongodb.get_collection().find({}, {\"Document\":1})"
   ]
  },
  {
   "cell_type": "code",
   "execution_count": 7,
   "id": "14b73734-c453-40e0-86c6-384aaab72f3c",
   "metadata": {
    "tags": []
   },
   "outputs": [],
   "source": [
    "# json_data = json.dumps(cursor)\n",
    "data = list(document)"
   ]
  }
 ],
 "metadata": {
  "kernelspec": {
   "display_name": "Python 3 (ipykernel)",
   "language": "python",
   "name": "python3"
  },
  "language_info": {
   "codemirror_mode": {
    "name": "ipython",
    "version": 3
   },
   "file_extension": ".py",
   "mimetype": "text/x-python",
   "name": "python",
   "nbconvert_exporter": "python",
   "pygments_lexer": "ipython3",
   "version": "3.8.17"
  }
 },
 "nbformat": 4,
 "nbformat_minor": 5
}
