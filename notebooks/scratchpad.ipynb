{
 "cells": [
  {
   "cell_type": "code",
   "execution_count": 1,
   "id": "de6098e9-9650-4ffd-94fa-40fef11d8e61",
   "metadata": {},
   "outputs": [],
   "source": [
    "import torch"
   ]
  },
  {
   "cell_type": "code",
   "execution_count": 3,
   "id": "80af5676-3c0e-45e0-8650-9a55fe0c08a2",
   "metadata": {},
   "outputs": [
    {
     "data": {
      "text/plain": [
       "tensor([[1],\n",
       "        [2],\n",
       "        [3],\n",
       "        [4]])"
      ]
     },
     "execution_count": 3,
     "metadata": {},
     "output_type": "execute_result"
    }
   ],
   "source": [
    "x = torch.tensor([1, 2, 3, 4])\n",
    "# torch.unsqueeze(x, 0)\n",
    "x.unsqueeze(-1)\n",
    "# torch.unsqueeze(x, 1)"
   ]
  },
  {
   "cell_type": "code",
   "execution_count": 9,
   "id": "3f4f90d0-c10a-4371-ae17-9247df425d09",
   "metadata": {},
   "outputs": [
    {
     "name": "stdout",
     "output_type": "stream",
     "text": [
      "this is a test. this is another test, please. do n't forget to include; punctuation: marks !\n"
     ]
    }
   ],
   "source": [
    "import re\n",
    "\n",
    "def post_process_text(decoded_text):\n",
    "    # Add a space after punctuation marks followed by optional spaces and word characters\n",
    "    processed_text = re.sub(r'(\\w)\\s*([.,;:!?])\\s*(?=\\w)', r'\\1\\2 ', decoded_text)\n",
    "    return processed_text\n",
    "\n",
    "# Example usage\n",
    "decoded_text = \"this is a test. this is another test, please. do n't forget to include; punctuation: marks !\"\n",
    "processed_text = post_process_text(decoded_text)\n",
    "print(processed_text)\n"
   ]
  },
  {
   "cell_type": "code",
   "execution_count": null,
   "id": "76ffa51f-e56c-4197-9bad-9380e3881642",
   "metadata": {},
   "outputs": [],
   "source": [
    "[CLS] what is a contact manifold ? [PAD] [PAD] [PAD] [PAD] [PAD] [PAD] [PAD] [PAD] [PAD] [PAD] [PAD] [PAD] [PAD] [PAD] [SEP]grangian cobordisms . 1 . introduction contact manifold is an odd - dimensional manifold together with maximally non - integrable hyperplane distribution ξ . in contact manifold , legendrian submanifolds play central role . these are the maximal integral submanifolds of ξ : λn such that ξ , for all λ . in general , legendrian submanifolds are plentiful and easy to construct . in this article we will restrict our attention to the contact manifold with [UNK] . lagrangian submanifolds are the maximal dimensional submanifolds where vanishes on the tangent spaces : such that ω | l 0 . when the symplectic manifold is exact , dλ , it is important to understand the more restrictive subset of exact lagrangians : these are submanifolds where λ | l is an exact 1 - form . geometrically , exact means that for any closed curve l , 0 . in this article , we will restrict our attention [UNK]ating questions , we will use ribbon cobordism to denote 2n - dimensional manifold that can be built from k - handles with n . this idea of restricting the handle index is well known in symplectic topology : eliashberg oan15 ] has shown that any 2n - dimensional stein manifold admits handle decomposition with handles of dimension at most n , and thus any 2n - dimensional stein cobordism between closed , ( 2n−1 ) dimensional contact manifolds must be ribbon [UNK] ( dga ) , a ( λ ) an augmentation is dga map from a ( λ ) to ﬁeld . the count of augmentations is closely related to the count constructions of lagrangian cobordisms of ruling polynomials augmentations can be used to construct ﬁnite - dimensional linearized contact homology groups which are often known to be isomorphic to the generating family homology groups in addition , there are invariants for legendrian knots coming from heegaard [UNK] cobordism from λ− to λ + , and λ− has an augmentation , then ( a ) # aug ( λ + ; # aug ( λ− ; where is the ﬁnite ﬁeld of two elements , and # aug ( λ ; denotes the number of augmentations of to up to dga homotopy [ pan17 , and ( b ) the ruling polynomials ( see section 5 [SEP]\n"
   ]
  }
 ],
 "metadata": {
  "kernelspec": {
   "display_name": "Python 3 (ipykernel)",
   "language": "python",
   "name": "python3"
  },
  "language_info": {
   "codemirror_mode": {
    "name": "ipython",
    "version": 3
   },
   "file_extension": ".py",
   "mimetype": "text/x-python",
   "name": "python",
   "nbconvert_exporter": "python",
   "pygments_lexer": "ipython3",
   "version": "3.8.17"
  }
 },
 "nbformat": 4,
 "nbformat_minor": 5
}
