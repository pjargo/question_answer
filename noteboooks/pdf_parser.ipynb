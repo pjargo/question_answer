{
 "cells": [
  {
   "cell_type": "code",
   "execution_count": 16,
   "id": "c3f64f8a-c122-4a4a-9bef-5cca76096471",
   "metadata": {
    "collapsed": true,
    "jupyter": {
     "outputs_hidden": true
    },
    "tags": []
   },
   "outputs": [
    {
     "name": "stdout",
     "output_type": "stream",
     "text": [
      "Collecting en-core-web-md==3.6.0\n",
      "  Downloading https://github.com/explosion/spacy-models/releases/download/en_core_web_md-3.6.0/en_core_web_md-3.6.0-py3-none-any.whl (42.8 MB)\n",
      "\u001b[2K     \u001b[90m━━━━━━━━━━━━━━━━━━━━━━━━━━━━━━━━━━━━━━━\u001b[0m \u001b[32m42.8/42.8 MB\u001b[0m \u001b[31m917.5 kB/s\u001b[0m eta \u001b[36m0:00:00\u001b[0m00:01\u001b[0m00:02\u001b[0m\n",
      "\u001b[?25hRequirement already satisfied: spacy<3.7.0,>=3.6.0 in /Users/peterargo/anaconda3/envs/myenv/lib/python3.8/site-packages (from en-core-web-md==3.6.0) (3.6.0)\n",
      "Requirement already satisfied: spacy-legacy<3.1.0,>=3.0.11 in /Users/peterargo/anaconda3/envs/myenv/lib/python3.8/site-packages (from spacy<3.7.0,>=3.6.0->en-core-web-md==3.6.0) (3.0.12)\n",
      "Requirement already satisfied: spacy-loggers<2.0.0,>=1.0.0 in /Users/peterargo/anaconda3/envs/myenv/lib/python3.8/site-packages (from spacy<3.7.0,>=3.6.0->en-core-web-md==3.6.0) (1.0.4)\n",
      "Requirement already satisfied: murmurhash<1.1.0,>=0.28.0 in /Users/peterargo/anaconda3/envs/myenv/lib/python3.8/site-packages (from spacy<3.7.0,>=3.6.0->en-core-web-md==3.6.0) (1.0.9)\n",
      "Requirement already satisfied: cymem<2.1.0,>=2.0.2 in /Users/peterargo/anaconda3/envs/myenv/lib/python3.8/site-packages (from spacy<3.7.0,>=3.6.0->en-core-web-md==3.6.0) (2.0.7)\n",
      "Requirement already satisfied: preshed<3.1.0,>=3.0.2 in /Users/peterargo/anaconda3/envs/myenv/lib/python3.8/site-packages (from spacy<3.7.0,>=3.6.0->en-core-web-md==3.6.0) (3.0.8)\n",
      "Requirement already satisfied: thinc<8.2.0,>=8.1.8 in /Users/peterargo/anaconda3/envs/myenv/lib/python3.8/site-packages (from spacy<3.7.0,>=3.6.0->en-core-web-md==3.6.0) (8.1.10)\n",
      "Requirement already satisfied: wasabi<1.2.0,>=0.9.1 in /Users/peterargo/anaconda3/envs/myenv/lib/python3.8/site-packages (from spacy<3.7.0,>=3.6.0->en-core-web-md==3.6.0) (1.1.2)\n",
      "Requirement already satisfied: srsly<3.0.0,>=2.4.3 in /Users/peterargo/anaconda3/envs/myenv/lib/python3.8/site-packages (from spacy<3.7.0,>=3.6.0->en-core-web-md==3.6.0) (2.4.7)\n",
      "Requirement already satisfied: catalogue<2.1.0,>=2.0.6 in /Users/peterargo/anaconda3/envs/myenv/lib/python3.8/site-packages (from spacy<3.7.0,>=3.6.0->en-core-web-md==3.6.0) (2.0.9)\n",
      "Requirement already satisfied: typer<0.10.0,>=0.3.0 in /Users/peterargo/anaconda3/envs/myenv/lib/python3.8/site-packages (from spacy<3.7.0,>=3.6.0->en-core-web-md==3.6.0) (0.9.0)\n",
      "Requirement already satisfied: pathy>=0.10.0 in /Users/peterargo/anaconda3/envs/myenv/lib/python3.8/site-packages (from spacy<3.7.0,>=3.6.0->en-core-web-md==3.6.0) (0.10.2)\n",
      "Requirement already satisfied: smart-open<7.0.0,>=5.2.1 in /Users/peterargo/anaconda3/envs/myenv/lib/python3.8/site-packages (from spacy<3.7.0,>=3.6.0->en-core-web-md==3.6.0) (6.3.0)\n",
      "Requirement already satisfied: tqdm<5.0.0,>=4.38.0 in /Users/peterargo/anaconda3/envs/myenv/lib/python3.8/site-packages (from spacy<3.7.0,>=3.6.0->en-core-web-md==3.6.0) (4.65.0)\n",
      "Requirement already satisfied: numpy>=1.15.0 in /Users/peterargo/anaconda3/envs/myenv/lib/python3.8/site-packages (from spacy<3.7.0,>=3.6.0->en-core-web-md==3.6.0) (1.23.5)\n",
      "Requirement already satisfied: requests<3.0.0,>=2.13.0 in /Users/peterargo/anaconda3/envs/myenv/lib/python3.8/site-packages (from spacy<3.7.0,>=3.6.0->en-core-web-md==3.6.0) (2.31.0)\n",
      "Requirement already satisfied: pydantic!=1.8,!=1.8.1,<1.11.0,>=1.7.4 in /Users/peterargo/anaconda3/envs/myenv/lib/python3.8/site-packages (from spacy<3.7.0,>=3.6.0->en-core-web-md==3.6.0) (1.10.12)\n",
      "Requirement already satisfied: jinja2 in /Users/peterargo/anaconda3/envs/myenv/lib/python3.8/site-packages (from spacy<3.7.0,>=3.6.0->en-core-web-md==3.6.0) (3.1.2)\n",
      "Requirement already satisfied: setuptools in /Users/peterargo/anaconda3/envs/myenv/lib/python3.8/site-packages (from spacy<3.7.0,>=3.6.0->en-core-web-md==3.6.0) (68.0.0)\n",
      "Requirement already satisfied: packaging>=20.0 in /Users/peterargo/anaconda3/envs/myenv/lib/python3.8/site-packages (from spacy<3.7.0,>=3.6.0->en-core-web-md==3.6.0) (23.0)\n",
      "Requirement already satisfied: langcodes<4.0.0,>=3.2.0 in /Users/peterargo/anaconda3/envs/myenv/lib/python3.8/site-packages (from spacy<3.7.0,>=3.6.0->en-core-web-md==3.6.0) (3.3.0)\n",
      "Requirement already satisfied: typing-extensions>=4.2.0 in /Users/peterargo/anaconda3/envs/myenv/lib/python3.8/site-packages (from pydantic!=1.8,!=1.8.1,<1.11.0,>=1.7.4->spacy<3.7.0,>=3.6.0->en-core-web-md==3.6.0) (4.7.1)\n",
      "Requirement already satisfied: charset-normalizer<4,>=2 in /Users/peterargo/anaconda3/envs/myenv/lib/python3.8/site-packages (from requests<3.0.0,>=2.13.0->spacy<3.7.0,>=3.6.0->en-core-web-md==3.6.0) (2.0.4)\n",
      "Requirement already satisfied: idna<4,>=2.5 in /Users/peterargo/anaconda3/envs/myenv/lib/python3.8/site-packages (from requests<3.0.0,>=2.13.0->spacy<3.7.0,>=3.6.0->en-core-web-md==3.6.0) (3.4)\n",
      "Requirement already satisfied: urllib3<3,>=1.21.1 in /Users/peterargo/anaconda3/envs/myenv/lib/python3.8/site-packages (from requests<3.0.0,>=2.13.0->spacy<3.7.0,>=3.6.0->en-core-web-md==3.6.0) (1.26.16)\n",
      "Requirement already satisfied: certifi>=2017.4.17 in /Users/peterargo/anaconda3/envs/myenv/lib/python3.8/site-packages (from requests<3.0.0,>=2.13.0->spacy<3.7.0,>=3.6.0->en-core-web-md==3.6.0) (2023.7.22)\n",
      "Requirement already satisfied: blis<0.8.0,>=0.7.8 in /Users/peterargo/anaconda3/envs/myenv/lib/python3.8/site-packages (from thinc<8.2.0,>=8.1.8->spacy<3.7.0,>=3.6.0->en-core-web-md==3.6.0) (0.7.10)\n",
      "Requirement already satisfied: confection<1.0.0,>=0.0.1 in /Users/peterargo/anaconda3/envs/myenv/lib/python3.8/site-packages (from thinc<8.2.0,>=8.1.8->spacy<3.7.0,>=3.6.0->en-core-web-md==3.6.0) (0.1.0)\n",
      "Requirement already satisfied: click<9.0.0,>=7.1.1 in /Users/peterargo/anaconda3/envs/myenv/lib/python3.8/site-packages (from typer<0.10.0,>=0.3.0->spacy<3.7.0,>=3.6.0->en-core-web-md==3.6.0) (8.1.6)\n",
      "Requirement already satisfied: MarkupSafe>=2.0 in /Users/peterargo/anaconda3/envs/myenv/lib/python3.8/site-packages (from jinja2->spacy<3.7.0,>=3.6.0->en-core-web-md==3.6.0) (2.1.1)\n",
      "\u001b[38;5;2m✔ Download and installation successful\u001b[0m\n",
      "You can now load the package via spacy.load('en_core_web_md')\n"
     ]
    }
   ],
   "source": [
    "!python -m spacy download en_core_web_md"
   ]
  },
  {
   "cell_type": "code",
   "execution_count": 77,
   "id": "fbbb8de5-67fd-4039-9082-c7551694e0c1",
   "metadata": {
    "collapsed": true,
    "jupyter": {
     "outputs_hidden": true
    },
    "tags": []
   },
   "outputs": [
    {
     "name": "stdout",
     "output_type": "stream",
     "text": [
      "Collecting transformers\n",
      "  Obtaining dependency information for transformers from https://files.pythonhosted.org/packages/21/02/ae8e595f45b6c8edee07913892b3b41f5f5f273962ad98851dc6a564bbb9/transformers-4.31.0-py3-none-any.whl.metadata\n",
      "  Downloading transformers-4.31.0-py3-none-any.whl.metadata (116 kB)\n",
      "\u001b[2K     \u001b[90m━━━━━━━━━━━━━━━━━━━━━━━━━━━━━━━━━━━━━━━\u001b[0m \u001b[32m116.9/116.9 kB\u001b[0m \u001b[31m1.2 MB/s\u001b[0m eta \u001b[36m0:00:00\u001b[0ma \u001b[36m0:00:01\u001b[0m\n",
      "\u001b[?25hCollecting filelock (from transformers)\n",
      "  Obtaining dependency information for filelock from https://files.pythonhosted.org/packages/00/45/ec3407adf6f6b5bf867a4462b2b0af27597a26bd3cd6e2534cb6ab029938/filelock-3.12.2-py3-none-any.whl.metadata\n",
      "  Downloading filelock-3.12.2-py3-none-any.whl.metadata (2.7 kB)\n",
      "Collecting huggingface-hub<1.0,>=0.14.1 (from transformers)\n",
      "  Obtaining dependency information for huggingface-hub<1.0,>=0.14.1 from https://files.pythonhosted.org/packages/7f/c4/adcbe9a696c135578cabcbdd7331332daad4d49b7c43688bc2d36b3a47d2/huggingface_hub-0.16.4-py3-none-any.whl.metadata\n",
      "  Downloading huggingface_hub-0.16.4-py3-none-any.whl.metadata (12 kB)\n",
      "Requirement already satisfied: numpy>=1.17 in /Users/peterargo/anaconda3/envs/myenv/lib/python3.8/site-packages (from transformers) (1.23.5)\n",
      "Requirement already satisfied: packaging>=20.0 in /Users/peterargo/anaconda3/envs/myenv/lib/python3.8/site-packages (from transformers) (23.0)\n",
      "Requirement already satisfied: pyyaml>=5.1 in /Users/peterargo/anaconda3/envs/myenv/lib/python3.8/site-packages (from transformers) (6.0)\n",
      "Requirement already satisfied: regex!=2019.12.17 in /Users/peterargo/anaconda3/envs/myenv/lib/python3.8/site-packages (from transformers) (2023.6.3)\n",
      "Requirement already satisfied: requests in /Users/peterargo/anaconda3/envs/myenv/lib/python3.8/site-packages (from transformers) (2.31.0)\n",
      "Collecting tokenizers!=0.11.3,<0.14,>=0.11.1 (from transformers)\n",
      "  Downloading tokenizers-0.13.3-cp38-cp38-macosx_10_11_x86_64.whl (4.0 MB)\n",
      "\u001b[2K     \u001b[90m━━━━━━━━━━━━━━━━━━━━━━━━━━━━━━━━━━━━━━━━\u001b[0m \u001b[32m4.0/4.0 MB\u001b[0m \u001b[31m16.5 MB/s\u001b[0m eta \u001b[36m0:00:00\u001b[0m00:01\u001b[0m00:01\u001b[0m\n",
      "\u001b[?25hCollecting safetensors>=0.3.1 (from transformers)\n",
      "  Downloading safetensors-0.3.1-cp38-cp38-macosx_10_11_x86_64.whl (400 kB)\n",
      "\u001b[2K     \u001b[90m━━━━━━━━━━━━━━━━━━━━━━━━━━━━━━━━━━━━━━━\u001b[0m \u001b[32m400.9/400.9 kB\u001b[0m \u001b[31m9.2 MB/s\u001b[0m eta \u001b[36m0:00:00\u001b[0m00:01\u001b[0m\n",
      "\u001b[?25hRequirement already satisfied: tqdm>=4.27 in /Users/peterargo/anaconda3/envs/myenv/lib/python3.8/site-packages (from transformers) (4.65.0)\n",
      "Requirement already satisfied: fsspec in /Users/peterargo/anaconda3/envs/myenv/lib/python3.8/site-packages (from huggingface-hub<1.0,>=0.14.1->transformers) (2023.6.0)\n",
      "Requirement already satisfied: typing-extensions>=3.7.4.3 in /Users/peterargo/anaconda3/envs/myenv/lib/python3.8/site-packages (from huggingface-hub<1.0,>=0.14.1->transformers) (4.7.1)\n",
      "Requirement already satisfied: charset-normalizer<4,>=2 in /Users/peterargo/anaconda3/envs/myenv/lib/python3.8/site-packages (from requests->transformers) (2.0.4)\n",
      "Requirement already satisfied: idna<4,>=2.5 in /Users/peterargo/anaconda3/envs/myenv/lib/python3.8/site-packages (from requests->transformers) (3.4)\n",
      "Requirement already satisfied: urllib3<3,>=1.21.1 in /Users/peterargo/anaconda3/envs/myenv/lib/python3.8/site-packages (from requests->transformers) (1.26.16)\n",
      "Requirement already satisfied: certifi>=2017.4.17 in /Users/peterargo/anaconda3/envs/myenv/lib/python3.8/site-packages (from requests->transformers) (2023.7.22)\n",
      "Downloading transformers-4.31.0-py3-none-any.whl (7.4 MB)\n",
      "\u001b[2K   \u001b[90m━━━━━━━━━━━━━━━━━━━━━━━━━━━━━━━━━━━━━━━━\u001b[0m \u001b[32m7.4/7.4 MB\u001b[0m \u001b[31m6.4 MB/s\u001b[0m eta \u001b[36m0:00:00\u001b[0m00:01\u001b[0m00:01\u001b[0mm\n",
      "\u001b[?25hUsing cached huggingface_hub-0.16.4-py3-none-any.whl (268 kB)\n",
      "Downloading filelock-3.12.2-py3-none-any.whl (10 kB)\n",
      "Installing collected packages: tokenizers, safetensors, filelock, huggingface-hub, transformers\n",
      "Successfully installed filelock-3.12.2 huggingface-hub-0.16.4 safetensors-0.3.1 tokenizers-0.13.3 transformers-4.31.0\n"
     ]
    }
   ],
   "source": [
    "!pip install transformers"
   ]
  },
  {
   "cell_type": "code",
   "execution_count": 9,
   "id": "3536511e-d9f0-45d0-94e2-95a87b359895",
   "metadata": {
    "collapsed": true,
    "jupyter": {
     "outputs_hidden": true
    },
    "tags": []
   },
   "outputs": [
    {
     "name": "stdout",
     "output_type": "stream",
     "text": [
      "Collecting pyspellchecker\n",
      "  Downloading pyspellchecker-0.7.2-py3-none-any.whl (3.4 MB)\n",
      "\u001b[2K     \u001b[90m━━━━━━━━━━━━━━━━━━━━━━━━━━━━━━━━━━━━━━━━\u001b[0m \u001b[32m3.4/3.4 MB\u001b[0m \u001b[31m7.1 MB/s\u001b[0m eta \u001b[36m0:00:00\u001b[0m00:01\u001b[0m00:01\u001b[0m\n",
      "\u001b[?25hInstalling collected packages: pyspellchecker\n",
      "Successfully installed pyspellchecker-0.7.2\n"
     ]
    }
   ],
   "source": [
    "!pip install pyspellchecker"
   ]
  },
  {
   "cell_type": "code",
   "execution_count": 2,
   "id": "b45a15b0-2934-4da3-855e-fd95b3533f00",
   "metadata": {
    "tags": []
   },
   "outputs": [
    {
     "name": "stderr",
     "output_type": "stream",
     "text": [
      "/Users/peterargo/anaconda3/envs/myenv/lib/python3.8/site-packages/tqdm/auto.py:21: TqdmWarning: IProgress not found. Please update jupyter and ipywidgets. See https://ipywidgets.readthedocs.io/en/stable/user_install.html\n",
      "  from .autonotebook import tqdm as notebook_tqdm\n"
     ]
    }
   ],
   "source": [
    "import sys\n",
    "import os\n",
    "sys.path.append(os.path.join('..', 'src'))\n",
    "\n",
    "from utils import parsed_pdf_to_json\n",
    "from gensim.models import Word2Vec"
   ]
  },
  {
   "cell_type": "markdown",
   "id": "9abe55cd-e1a2-475e-ae6f-96008da9cacd",
   "metadata": {},
   "source": [
    "#### Parse pdfs in directory for text, tokenize, chunk and save to JSON files\n",
    "- Specify PDF directory\n",
    "- Specify Storage directory for the JSON files\n",
    "- Specify word embedding model, consistent with the query for getting candidate documents\n",
    "- Specify chunk overlap: the number of tokens consecutive chunks overlap by"
   ]
  },
  {
   "cell_type": "markdown",
   "id": "b144c21b-b0c2-434a-b179-02dddfb6e4e6",
   "metadata": {},
   "source": [
    "##### Test on one_pdf directory containing one pdf file"
   ]
  },
  {
   "cell_type": "code",
   "execution_count": 10,
   "id": "55d4cb6c-6a8f-4644-bd67-4f8138818276",
   "metadata": {
    "tags": []
   },
   "outputs": [],
   "source": [
    "directory = os.path.join(\"..\", \"data\", \"one_pdf\")\n",
    "storage_dir = os.path.join(\"..\", \"data\", \"one_pdf_parsed\")\n",
    "\n",
    "# Load your trained Word2Vec model\n",
    "model_fname = os.path.join(\"..\", \"models\", \"word_embeddings\", \"word2vec_model.bin\")\n",
    "model = Word2Vec.load(model_fname)"
   ]
  },
  {
   "cell_type": "code",
   "execution_count": null,
   "id": "36943aef-acb4-4015-95ea-29e88d8f6532",
   "metadata": {},
   "outputs": [],
   "source": [
    "parsed_pdf_to_json(directory, storage_dir, embedding_layer_model=model, chunk_overlap=0)"
   ]
  },
  {
   "cell_type": "markdown",
   "id": "cd4516b4-0cc5-4ee5-90fc-b1eae7e83363",
   "metadata": {},
   "source": [
    "##### Parse documents in test_pdfs dirctory"
   ]
  },
  {
   "cell_type": "code",
   "execution_count": 3,
   "id": "7feb646b-9bca-41a1-a90b-c2bace557135",
   "metadata": {
    "tags": []
   },
   "outputs": [],
   "source": [
    "directory = os.path.join(\"..\", \"data\", \"test_pdfs\")\n",
    "storage_dir = os.path.join(\"..\", \"data\", \"parsed_cleaned_pdfs\")\n",
    "\n",
    "# Load your trained Word2Vec model\n",
    "model_fname = os.path.join(\"..\", \"models\", \"word_embeddings\", \"word2vec_model.bin\")\n",
    "model = Word2Vec.load(model_fname)"
   ]
  },
  {
   "cell_type": "code",
   "execution_count": 4,
   "id": "241ef5c5-9b41-4ca5-9da3-3fbaf755f3f0",
   "metadata": {
    "tags": []
   },
   "outputs": [
    {
     "name": "stdout",
     "output_type": "stream",
     "text": [
      "../data/test_pdfs/2101.00031.pdf\n",
      "../data/test_pdfs/2101.01089.pdf\n",
      "../data/test_pdfs/2101.00182.pdf\n",
      "../data/test_pdfs/2101.00525.pdf\n",
      "../data/test_pdfs/2101.01017.pdf\n",
      "../data/test_pdfs/2101.00005.pdf\n",
      "../data/test_pdfs/2101.00763.pdf\n",
      "../data/test_pdfs/2101.01291.pdf\n",
      "../data/test_pdfs/2101.00831.pdf\n",
      "../data/test_pdfs/2101.01094.pdf\n",
      "../data/test_pdfs/2101.00572.pdf\n",
      "processing text...\n",
      "making lower-case...\n",
      "Removing non-text elements (extra whitespaces)...\n",
      "Removing unnecessary whitespace and special characters...\n",
      "Removing line breaks...\n",
      "Removing gibberish...\n",
      "Removing unicode...\n",
      "remove single letters or super large words (so big they don't make sense)...\n",
      "done cleaning.\n",
      "\n",
      "tokenize the processed text...\n",
      "Chunking the tokenized text\n",
      "\n",
      "printing the shape of chunked dataframe\n",
      "(906, 15)\n"
     ]
    }
   ],
   "source": [
    "parsed_pdf_to_json(directory, storage_dir, embedding_layer_model=model, chunk_overlap=0)"
   ]
  },
  {
   "cell_type": "markdown",
   "id": "58ff4091-0593-423a-a9a8-9ca83c4a51ee",
   "metadata": {},
   "source": [
    "#### Testing some code"
   ]
  },
  {
   "cell_type": "code",
   "execution_count": 17,
   "id": "02ae93ef-5082-49e3-9b7f-ce4f95596de1",
   "metadata": {},
   "outputs": [
    {
     "name": "stdout",
     "output_type": "stream",
     "text": [
      "therea are some known elementary building blocks for lagrangian cobordisms...\n"
     ]
    }
   ],
   "source": [
    "# BELOW CODE: Adding a spell checker to the clean_text function in utils.py\n",
    "\n",
    "import re\n",
    "import unicodedata\n",
    "from spellchecker import SpellChecker\n",
    "\n",
    "def clean_text(text):\n",
    "    # Normalize Unicode characters\n",
    "    text = unicodedata.normalize('NFKD', text).encode('ascii', 'ignore').decode('utf-8')\n",
    "\n",
    "    # Remove unnecessary whitespace\n",
    "    text = re.sub(r'\\s+', ' ', text)  # Replace multiple spaces with a single space\n",
    "    \n",
    "    # Spell checking and correction using pyspellchecker\n",
    "#     spell = SpellChecker()\n",
    "#     words = text.split()\n",
    "#     for word in words:\n",
    "#         print(spell.correction(word))\n",
    "#     corrected_words = [spell.correction(word) if spell.correction(word) is not None else word for word in words ]\n",
    "#     text = ' '.join(corrected_words)\n",
    "    \n",
    "    return text.strip()  # Remove leading and trailing whitespace\n",
    "\n",
    "# Example usage\n",
    "raw_text = \"therea are some known \\u201celementary\\u201d building blocks for lagrangian cobordisms...\"\n",
    "cleaned_text = clean_text(raw_text)\n",
    "print(cleaned_text)\n",
    "\n",
    "\n",
    "\n"
   ]
  },
  {
   "cell_type": "code",
   "execution_count": null,
   "id": "27726824-1cbe-40da-bdb4-3e6639b45d33",
   "metadata": {},
   "outputs": [],
   "source": []
  }
 ],
 "metadata": {
  "kernelspec": {
   "display_name": "Python 3 (ipykernel)",
   "language": "python",
   "name": "python3"
  },
  "language_info": {
   "codemirror_mode": {
    "name": "ipython",
    "version": 3
   },
   "file_extension": ".py",
   "mimetype": "text/x-python",
   "name": "python",
   "nbconvert_exporter": "python",
   "pygments_lexer": "ipython3",
   "version": "3.8.17"
  }
 },
 "nbformat": 4,
 "nbformat_minor": 5
}
