{
 "cells": [
  {
   "cell_type": "code",
   "execution_count": 5,
   "id": "20180d59-bcc7-40a1-930b-f232caee62af",
   "metadata": {
    "tags": []
   },
   "outputs": [],
   "source": [
    "from transformers import BertTokenizer\n",
    "from torch.utils.data import DataLoader, TensorDataset\n",
    "# from utils import pdfs_to_df, tokenize_df_of_texts\n",
    "import torch\n",
    "import json\n",
    "import os"
   ]
  },
  {
   "cell_type": "code",
   "execution_count": 11,
   "id": "c957b59a-8541-4118-a562-a9e97c7594a8",
   "metadata": {
    "tags": []
   },
   "outputs": [
    {
     "name": "stdout",
     "output_type": "stream",
     "text": [
      "dict_keys(['tokens', 'tokens_less_sw', 'token_embeddings', 'token_embeddings_less_sw', 'Document', 'Abstract', 'Text', 'Abstract_Original', 'Original_Text', 'Path', 'sha_256', 'language', 'language_probability', 'Authors', 'Title', 'url', 'date'])\n"
     ]
    }
   ],
   "source": [
    "fname = os.path.join(\"..\", \"data\", \"parsed_cleaned_pdfs\", \"roberta\", \"1.json\")\n",
    "with open(fname) as json_file:\n",
    "    data = json.load(json_file)\n",
    "    \n",
    "print(data.keys())"
   ]
  },
  {
   "cell_type": "code",
   "execution_count": 14,
   "id": "52cd4419-6957-4cc1-b26b-727d5cdf0dbd",
   "metadata": {
    "tags": []
   },
   "outputs": [
    {
     "name": "stderr",
     "output_type": "stream",
     "text": [
      "Downloading model.safetensors: 100%|████████████████████████████████████████████████████████████████████████| 496M/496M [00:11<00:00, 43.8MB/s]\n"
     ]
    }
   ],
   "source": [
    "from transformers import AutoModelForQuestionAnswering, AutoTokenizer, pipeline\n",
    "\n",
    "model_name = \"deepset/roberta-base-squad2\"\n",
    "\n",
    "# a) Get predictions\n",
    "nlp = pipeline('question-answering', model=model_name, tokenizer=model_name)\n",
    "QA_input = {\n",
    "    'question': \"What is a contact manifold\",\n",
    "    'context': data['Text']\n",
    "}\n",
    "res = nlp(QA_input)\n",
    "\n",
    "# b) Load model & tokenizer\n",
    "model = AutoModelForQuestionAnswering.from_pretrained(model_name)\n",
    "tokenizer = AutoTokenizer.from_pretrained(model_name)"
   ]
  },
  {
   "cell_type": "code",
   "execution_count": 15,
   "id": "aa6391b7-65ff-42ed-83db-cf71db9d7ae3",
   "metadata": {
    "tags": []
   },
   "outputs": [
    {
     "data": {
      "text/plain": [
       "{'score': 0.29526928067207336,\n",
       " 'start': 962,\n",
       " 'end': 989,\n",
       " 'answer': 'an odd-dimensional manifold'}"
      ]
     },
     "execution_count": 15,
     "metadata": {},
     "output_type": "execute_result"
    }
   ],
   "source": [
    "res"
   ]
  },
  {
   "cell_type": "code",
   "execution_count": 12,
   "id": "3db2fd88-ebdd-4f38-abdd-9fa230da2181",
   "metadata": {
    "tags": []
   },
   "outputs": [
    {
     "data": {
      "text/plain": [
       "'lagrangian cobordisms between legendrian knots arise in symplectic field theory and impose an interesting and not well-understood relation on legendrian knots. there are some known “elementary” building blocks for lagrangian cobordisms that are smoothly the attachment of 0- and 1-handles. an important question is whether every pair of nonempty legendrians that are related by connected lagrangian cobordism can be related by ribbon lagrangian cobordism, in particular one that is “decomposable” into composition of these elementary building blocks. we will describe these and other combinatorial building blocks as well as some geometric methods, involving the theory of satellites, to construct lagrangian cobordisms. we will then survey some known results, derived through heegaard floer homology and contact surgery, that may provide pathway to proving the existence of nondecomposable (nonribbon) lagrangian cobordisms. 1. introduction contact manifold is an odd-dimensional manifold together with maximally non-integrable hyperplane distribution ξ. in contact manifold, legendrian submanifolds play central role. these are the maximal integral submanifolds of ξ: λn such that ξ, for all λ. in general, legendrian submanifolds are plentiful and easy to construct. in this article we will restrict our attention to the contact manifold with its standard contact structure ker α, where in this setting, every smooth knot or link has an inﬁnite number of non-equivalent legendrian representatives. more background on legendrian knots is given in section 2. the even-dimensional siblings of contact manifolds are symplectic manifolds. these are even-dimensional manifolds equipped with closed, non-degenerate 2-form ω. in symplectic manifolds, lagrangian submanifolds play central role. lagrangian submanifolds are the maximal dimensional submanifolds where vanishes on the tangent spaces: such that ω|l 0. when the symplectic manifold is exact, dλ, it is important to understand the more restrictive subset of exact lagrangians: these are submanifolds where λ|l is an exact 1-form. geometrically, exact means that for any closed curve l, 0. in this article, we will restrict our attention to symplectic manifold that is symplectomorphic to with its standard symplectic structure ω0 in contrast to legendrians, lagrangians are scarce. for [math.sg] 31 dec 2020 constructions of lagrangian cobordisms example, in with its standard symplectic structure, the torus is the only closed surface that will admit lagrangian embedding into famous theorem of gromov states that there are no closed, exact lagrangian submanifolds of there has been great deal of recent interest in certain class of non-closed, exact lagrangian submanifolds, known as lagrangian cobordisms. these lagrangian submanifolds live in the symplectization of contact manifold and have cylindrical ends over legendrians. in this article, we will focus on exact, orientable lagrangian cobordisms from the legendrian λ− to the legendrian λ+ that live in the symplectization of this symplectization is equipped with the exact symplectic form d(etα), where is the coordinate on and is the standard contact form on see figure for schematic picture of lagrangian cobordism and deﬁnition for formal deﬁnition. such lagrangian cobordisms were ﬁrst introduced in symplectic field theory (sft) in relative sft, we get category whose objects are legendrians and whose morphisms are lagrangian cobordisms. lagrangian ﬁllings occur when λ− and are key objects in the fukaya category, which is an important invariant of symplectic four-manifolds. lagrangian cap occurs when λ+ ∅. basic question tied to understanding the general existence and behavior of lagrangian submanifolds is to understand the existence of lagrangian cobordisms: given two legendrians λ±, when does there exist lagrangian cobordism from λ− to λ+? there are known to be number of obstructions to this relation on legendrian submanifolds coming from both classical and non-classical invariants of the legendrians λ±. some of these obstructions are described in section 2.3. to complement the obstructions, there are some known constructions. for example, it is well known cha10, that there exists lagrangian cobordism between legendrians λ± that differ by legendrian isotopy. in addition, by cha12], it is known that there exists lagrangian cobordism from λ− to λ+ if λ− can be obtained from λ+ by “pinch” move or if λ+ λ− ∪u, where denotes legendrian unknot with maximal thurston-bennequin number of −1 that is contained in the complement of ball containing λ−. topologically, between these slices, the cobordism changes by saddle move (1-handle) and the addition of local minimum (0-handle); see figure 1. it is important to notice that there is not an elementary move corresponding to local maximum (2-handle) move. by stacking these individual cobordisms obtained from isotopy, saddles, and minimums, one obtains what is commonly referred to as decomposable lagrangian cobordism. through these moves, it is easy to construct lagrangian cobordisms and ﬁllings; see an example in figure 7. towards understanding the existence of lagrangians, it is natural to ask: does there exist lagrangian cobordism from λ− to λ+ if and only if there exists decomposable lagrangian cobordism from λ− to λ+? we know the answer to this question is “no”: by studying the “movies” of the not necessarily constructions of lagrangian cobordisms (a) (b) λ+ λ− λ+ figure 1. (a) the pinch move on λ+ produces lagrangian saddle. (b) λ+ obtained by introducing an unknotted component to λ− corresponds to the lagrangian cobordism having local min. legendrian slices of lagrangian. sauvaget, murphy, and lin lin16] have shown that there exists genus two lagrangian cap of the legendrian unknot with thurston-bennequin number equal to −3 and rotation number 0. the lagrangian diagram moves used by [lin16] to construct lagrangian cap are described in section 3.3. the necessity of local maximum when λ+ ̸= is not currently understood. to formulate some precise motivating questions, we will use ribbon cobordism to denote 2n-dimensional manifold that can be built from k-handles with n. this idea of restricting the handle index is well known in symplectic topology: eliashberg oan15] has shown that any 2n-dimensional stein manifold admits handle decomposition with handles of dimension at most n, and thus any 2n-dimensional stein cobordism between closed, (2n−1)dimensional contact manifolds must be ribbon. working in the relative setting with submanifolds and using the handle decomposition from the “height” function given by the coordinate on we see that all decomposable 2-dimensional lagrangian cobordisms between 1-dimensional legendrian submanifolds are ribbon cobordisms. we are led to the following natural questions. motivating questions. suppose λ+ ̸= and there exists connected lagrangian cobordism from λ− to λ+. then: (1) does there exist decomposable lagrangian cobordism from λ− to λ+? (2) does there exist ribbon lagrangian cobordism from λ− to λ+? (3) is lagrangian isotopic to ribbon and/or decomposable lagrangian cobordism? there are some results known about motivating question (3) for the special case of the simplest legendrian unknot. if denotes the legendrian unknot with thurston-bennequin number −1, it is known that every (exact) lagrangian ﬁlling is orientable and there is unique (exact, orientable) lagrangian ﬁlling of up to compactly supported hamiltonian constructions of lagrangian cobordisms isotopy moreover, any lagrangian cobordism from to is lagrangian isotopic, via compactly supported hamiltonian isotopy, to one in countable collection given by the trace of legendrian isotopy induced by rotation motivating questions (1) and (2) are closely related and have deep ties to important questions in topology. observe that “yes” answer to (1) implies “yes” to (2): if the existence of lagrangian cobordism implies the existence of decomposable lagrangian cobordism, then we also know the existence of ribbon cobordism. also note that when λ+ is topologically slice knot and λ− ∅, (2) is symplectic version of the topological slice-ribbon conjecture: is every lagrangian slice disk ribbon disk? cornwell, ng, and sivek conjecture that the answer to motivating question (1) and (3) is “no”: using the theory of satellites, we know that there is lagrangian concordance between λ± shown in figure 2, and in conjecture 3.3] it is conjectured that the concordance between the pair is not decomposable. λ+ λ− figure 2. there is lagrangian concordance between these legendrian knots that is conjectured to be non-decomposable. here λ− is legendrian trefoil and λ+ is legendrian whitehead double of very recently, roberta guadagni has discovered additional combinatorial moves that can be used to construct “movie,” meaning sequence of slice pictures, of lagrangian cobordism; figure illustrates one of these tangle moves. with one of guadagni’s moves, it is possible to construct movie of lagrangian cobordism between the legendrians pictured in figure 2; see figure 10. guadagni’s moves are “geometric”: they are developed through proofs similar to those used in the satellite procedure, and thus the handle attachments involved in the cobordism are not obvious. in particular, at this constructions of lagrangian cobordisms point it is not known if guadagni’s tangle moves are independent from the decomposable moves. this survey article is organized as follows. in section 2, we provide some background on legendrians and lagrangians, formally deﬁne lagrangian cobordisms, and summarize known obstructions to the existence of lagrangian cobordisms. in section 3, we describe three “combinatorial” ways to construct lagrangian cobordisms, and in section 4, we describe more abstract “geometric” ways to construct lagrangian concordances and cobordisms through satellites. then in section 5, we describe some potential pathways through the theory of rulings, heegaard-floer homology, and contact surgery to potentially show the existence of legendrians that are lagrangian cobordant but are not related by decomposable lagrangian cobordism. acknowledgements: this project was initiated at the workshop women in symplectic and contact geometry and topology (wiscon) that took place at icerm in july 2019. the authors thank the nsf-hrd 1500481 advance grant for funding this workshop. leverson was supported by nsf postdoctoral fellowship dms-1703356. we thank emmy murphy for suggesting and encouraging us to work on this project. in addition, we thank john etnyre, roberta guadagni, tye lidman, lenny ng, josh sabloﬀ, and b¨ulent tosun for useful conversations related to this project. 2. background 2.1. legendrian knots and links. in this section, we give very brief introduction to legendrian submanifolds in and their invariants. more details can be found, for example, in the survey paper in the standard contact structure is 2-dimensional plane ﬁeld given by the kernel of the 1-form in ker α), legendrian knot is knot in that is tangent to everywhere. useful way to visualize legendrian knot is to project it from to there are two useful projections: the lagrangian projection πl (x, y, z) �→ (x, y), as well as the front projection πf (x, y, z) �→ (x, z). an example of legendrian trefoil is shown in figure 3. legendrian submanifolds are equivalent if they can be connected by 1parameter family of legendrian submanifolds. in fact, for each topological knot type there are inﬁnitely many diﬀerent legendrian knots. indeed, we can stabilize legendrian knot (as shown in figure 4) to get another legendrian knot of the same topological knot type. we can see that these are not legendrian equivalent using legendrian invariants. constructions of lagrangian cobordisms figure 3. the front projection (left) and the lagrangian projection (right) of legendrian trefoil. figure 4. two ways to stabilize legendrian knot in front projection. two useful classical invariants of legendrian knots are the thurstonbennequin number and the rotation number r(λ). they can be computed easily from front projections. given the front projection of legendrian knot or link λ, the thurston-bennequin number is writhe(πf(λ)) #(right cusps), where the writhe is the number of crossings counted with sign. once the legendrian knot is equipped with an orientation, the rotation number is r(λ) #(down cusps) #(up cusps) one can use these two invariants to see that stabilizations change the legendrian knot type. in future sections, we will not assume that our legendrians λ± come equipped with an orientation. in our motivating questions described in section 1, our lagrangian cobordisms are always orientable, so the existence of lagrangian cobordism from λ− to λ+ will induce orientations on λ±. there are many powerful non-classical invariants that can be assigned to legendrian knot. although this will not be focus of this paper, we will give brief description of some of these invariants. one important invariant stems from normal rulings, deﬁned independently by chekanov and pushkar and fuchs count of normal rulings leads to ruling polynomials more details will be discussed in section 5.1. through the closely related theory of generating families, one can also associate invariant polynomials that record the dimensions of generating family homology groups in addition, through the theory of pseudoholomoprhic curves, one can associate to legendrian diﬀerential graded algebra (dga), a(λ) an augmentation is dga map from a(λ) to ﬁeld. the count of augmentations is closely related to the count constructions of lagrangian cobordisms of ruling polynomials augmentations can be used to construct ﬁnite-dimensional linearized contact homology groups which are often known to be isomorphic to the generating family homology groups in addition, there are invariants for legendrian knots coming from heegaard floer homology 2.2. lagrangian cobordisms. lagrangian cobordisms between legendrian submanifolds always have “cylindrical ends” over the legendrians, but other conditions vary: sometimes it is speciﬁed that the lagrangian is exact, is embedded (or immersed), is orientable, or has ﬁxed maslov class. in this paper, lagrangian cobordism is always exact, embedded, and orientable. deﬁnition 1. let λ± be two legendrian knots or links in ker α). lagrangian cobordism from λ− to λ+ is an embedded, orientable lagrangian surface in the symplectization (r d(etα)) such that for some 0, (1) ([−n, n] is compact, (2) ((n, ∞) (n, ∞) λ+, (3) ((−∞, −n) (−∞, −n) λ−, and (4) there exists function and constant numbers c± such that etα|tl df, where c−, and c+. lagrangian ﬁlling of λ+ is lagrangian cobordism with λ− ∅; lagrangian cap of λ− is lagrangian cobordism with λ+ ∅. lagrangian concordance occurs when λ± are knots and has genus 0. figure is schematic representation of lagrangian cobordism. λ+ λ− −n figure 5. lagrangian cobordism from λ− to λ+. remark 1. in condition (4) of deﬁnition 1, the fact that λ± are legendrian will guarantee that f± will be locally constant. using this, it follows that any genus zero lagrangian surface that is cylindrical over legendrian knots will be exact. when λ± have multiple components, one needs to check that the constant does not vary: this condition guarantees the exactness of the constructions of lagrangian cobordisms lagrangian cobordism obtained by “gluing” together lagrangian cobordisms [cha15a]. remark 2. in contrast to topological cobordisms, lagrangian cobordisms form non-symmetric relationship on legendrian knots in this article we will always denote the direction of increasing rt coordinate by an arrow. 2.3. obstructions to lagrangian cobordisms. the focus of this paper is on constructing lagrangian cobordisms between two given legendrians λ±. in the smooth world, any two knots are related by smooth cobordism, but in this more restrictive lagrangian world, there are number of obstructions that are important to keep in mind when trying to explicitly construct lagrangian cobordisms. here we mention few that come from classical and non-classical invariants of the legendrians λ±. obstructions: (1) if there exists lagrangian cobordism of genus between λ− and λ+, then there must exist smooth cobordism of genus between the smooth knot types of λ− and λ+. thus any obstruction of smooth genus cobordism between λ− and λ+ would obstruct lagrangian genus cobordism. (2) since there are no closed, exact lagrangian surfaces if there exists lagrangian cap (respectively, ﬁlling) for λ, then there cannot exist lagrangian ﬁlling (respectively, cap) of λ. (3) as shown in [cha10], if there exists lagrangian cobordism from λ− to λ+, then r(λ−) r(λ+) and −χ(l). in particular, if legendrian knot admits lagrangian ﬁlling or cap, then r(λ) 0. also, combining this equality on and the slice-bennequin inequality we see that, when is single component knot, if there exists lagrangian cap of λ, then −1 and g(l) 1. (4) if there exists maslov lagrangian cobordism from λ− to λ+, and λ− has an augmentation, then (a) #aug(λ+; #aug(λ−; where is the ﬁnite ﬁeld of two elements, and #aug(λ; denotes the number of augmentations of to up to dga homotopy [pan17, and (b) the ruling polynomials (see section 5.1 for deﬁnitions) satisfy for any that is power of prime number [pan17]. (5) if admits maslov lagrangian ﬁlling l, and if ϵl denotes the augmentation of induced by l, then ϵl(λ) ∼= which is known as the ekholm-seidel isomorphism and whose proof was completed by dimitroglou rizell in more generally, if constructions of lagrangian cobordisms there is cobordism from λ− to λ+, and if λ− admits an augmentation, then provides several long exact sequences relating the homology of the cobordism and the legendrian contact (co)homologies of its legendrian ends. version of this isomorphism and these long exact sequences using generating families are given in (6) if admits an augmentation, does not admit lagrangian cap, as the augmentation implies the non-acyclicity of the dga a(λ) theorem 5.5], and from corollary 1.9] if legendrian admits lagrangian cap then its dga a(λ) (with coeﬃcients) is acyclic. there are additional obstructions, obtained through heegaard floer theory, that can be used to obstruct lagrangian concordances and cobordisms [bsar, blwar]. some of these will be discussed more in section 5.3. remark 3. observe that the obstructions in (4) and (6) assume that the bottom λ− has an augmentation, and stabilized knots will never have an augmentation. it would be nice to have more obstructions when λ− is stabilized knot. this might be possible using the theory of “satellites” described in section 4.1: it is possible for the satellite of stabilized legendrian to admit an augmentation. see section 4.3 for more discussions in this direction. 3. combinatorial constructions of lagrangian cobordisms convenient way of visualizing topological cobordisms is through “movies”: sequence of pictures that represent slices of the lagrangian. in this section, we describe three known combinatorial ways to construct lagrangian cobordisms through such an approach. 3.1. decomposable moves. it is well known that if λ− and λ+ are legendrian isotopic, then there exists lagrangian cobordism from λ− to λ+; see, for example, cha10, isotopy, together with two types of handle moves, form the basis for decomposable lagrangian cobordisms. theorem if the front diagrams of two legendrian links λ− and λ+ are related by any of the following moves, there is lagrangian cobordism from λ− to λ+. isotopy: there is legendrian isotopy between λ− and λ+; see figures for reidemeister move 1-handle: the front diagram of λ− can be obtained from the front diagram of λ+ by “pinching” two oppositely-oriented strands; see figure we will also refer to this move as “pinch move.” 0-handle: the front diagram of λ− can be obtained from the front diagram of λ+ by deleting component of λ+ that is the front diagram of standard legendrian unknot with maximal thurston-bennequin number of −1 as long as there exist disjoint disks du, duc containing the xz-projection of and the other components of λ+, respectively. such an “unknot ﬁlling” can be seen in figure 10 constructions of lagrangian cobordisms (a) (b) (c) (d) (e) figure 6. decomposable moves in terms of front projections. arrows indicate the direction of increasing rt coordinate in the symplectization. the move in (b) only shows the reidemeister move in the left cusp case, but there is an analogous move for the right cusp. deﬁnition 3. lagrangian cobordism from λ− to λ+ is called elementary if it arises from isotopy, single 0-handle, or single 1-handle. lagrangian cobordism from λ− to λ+ is decomposable if it is obtained by stacking elementary lagrangian cobordisms. observe that there is not an elementary move corresponding to 2-handle (maximum). also note that the elementary 1-handle (saddle) move can be used to connect two components or to split one component into two. decomposable cobordisms are particularly convenient as they are easy to describe in combinatorial fashion, through list of embedded legendrian curves, λ− λ0 λ1 λn λ+, where the front projection of the legendrian is related to that of λi by isotopy or one of the 0-handle or 1-handle moves. example 4. one can construct lagrangian ﬁlling of positive legendrian trefoil with maximal thurston-bennequin number using the series of moves shown in figure 7: 0-handle, followed by three reidemeister moves, followed by two 1-handles (or pinch moves). this gives genus (orientable, exact) lagrangian ﬁlling of this legendrian trefoil. since we are assuming that lagrangian ﬁllings and caps are always exact, this implies that this trefoil cannot admit lagrangian cap; see section 2.3 obstructions (2). example 5. using elementary moves, one can also construct lagrangian concordance from the unknot with −1 to legendrian representative of the knot as shown on figure 8. 3.2. guadagni moves. very recently, roberta guadagni has discovered new “tangle” move; see figure 9. this is not local move: there are some constructions of lagrangian cobordisms 11 figure 7. decomposable lagrangian ﬁlling of legendrian trefoil. figure 8. decomposable lagrangian cobordism from legendrian unknot to legendrian global requirements. in particular, this move cannot be applied if all components of the tangle are contained in the same component of λ−: the component of λ− containing the blue strand must be diﬀerent than the components containing the other strands of the tangle. figure 9. under some global conditions, there exists lagrangian cobordism between these tangles. example 6. with guadagni’s tangle move, it is possible to construct lagrangian cobordism between the legendrians pictured in figure 2; see figure 10. however, at this point it is not known if guadagni’s tangle move is independent of the decomposable moves. 3.3. lagrangian diagram moves. as shown in section 3.1, decomposable cobordisms are constructed from 0-handles and some 1-handles (saddles) but no 2-handles (caps). based on the work of sauvaget lin [lin16] constructs genus two cap of twice stabilized unknot, and thus gives the ﬁrst explicit example of non-decomposable lagrangian cobordism. the construction describes time-slices of lagrangian cobordism through list of moves on “decorated lagrangian diagrams.” 12 constructions of lagrangian cobordisms figure 10. movie, using guadagni move, of an (orientable, exact) lagrangian cobordism from the trefoil to the whitehead double of in figure 2. decorated lagrangian diagram is curve in the xy-plane with the compact regions decorated by positive number, which is the area of the region. figure 11 shows some examples: in the illustration of the move, is lagrangian projection of the legendrian unknot with maximal thurstonbennequin number; in the illustration of the move, um is decorated lagrangian diagram, but is not the lagrangian projection of legendrian knot. theorem ([lin16]). let λ± be legendrian links and d± be their corresponding decorated lagrangian projections. if one can create sequence of decorated lagrangian diagrams d− dn d+ such that each diagram can be obtained from di by the following combinatorial moves, then there is compact lagrangian submanifold in with boundary λ− λ+, where λ± {±n} for some 0. (1) planar isotopy that changes areas by the amount ±a, for 0. this operation can only be done in the direction speciﬁed. (2) reidemeister move. one can either introduce or eliminate two crossings assuming some area conditions are satisﬁed: it is possible to introduce or remove two crossings as long as the area of the inner region, denoted by in the diagram, is less than either the area or the area η. one can also do this move with the lower strand passing under the upper strand. (3) reidemeister move. one can perform reidemeister move as long as the area of the inner region, denoted by in the diagram, is less than either the area ϵ, the area or the area η. the ﬁxed center crossing can be reversed. additionally, the moving strand can also occur as an overstrand. constructions of lagrangian cobordisms 13 +a −a +a −a h+ h− um figure 11. the lagrangian diagram moves. the labels in move represent the change of area through the move, while other labels 0, ϵ, δ, η, indicate the area of the corresponding regions; here represents positive area that is smaller than either the area ϵ, the area or the area η. (4) h+: handle attachment that creates positive crossing in the diagram. (5) h−: handle attachment that removes negative crossing in the diagram. (6) f: ﬁlling that creates the diagram u, which is the lagrangian projection of an unknot with maximal thurston-bennequin number. (7) c: cap that eliminates the diagram um, which is the topological mirror of u. these moves are called lagrangian diagram moves. moreover, the constructed lagrangian will be exact if, in addition, each move results in diagram with all components having total signed area equal to 0. the signed area of region is determined by the sum of the signed heights of its reeb chords. if handle attachment merges two components of link, the components being merged must be vertically split, meaning that the images of the xy-projections of these components are contained in disjoint disks. 14 constructions of lagrangian cobordisms remark 4. (1) for condition the h− can never be applied to merge components, and h+ can only be applied if the components being merged are vertically split. (2) main distinction between the lagrangian diagram moves and the decomposable moves is that each diagram di in the middle of the sequence is not necessarily the lagrangian projection of legendrian link. they are just the xy-projection of some time ti-slice of the cobordism. thus the lagrangian diagram moves are more ﬂexible than the decomposable moves. however, keeping track of the areas is an added complication. example 8. figure 12 illustrates the construction of lagrangian torus using the lagrangian diagram moves. this torus fails to be exact since condition is violated. figure 13 gives another construction of lagrangian torus. this time, all components have signed area 0, but now condition is violated. h− h+ figure 12. (non-exact) lagrangian torus constructed using the lagrangian diagram moves. the middle ﬁgure violates figure 13. (non-exact) lagrangian torus constructed using the lagrangian diagram moves. these ﬁgures satisfy but is violated in the step labelled by red arrow. constructions of lagrangian cobordisms 15 4. geometrical constructions of lagrangian cobordisms an important general way to know of the existence of lagrangian cobordisms without using the constructions described in section comes through the satellite operation. in this section, we review the satellite construction and then state results from about the existence of lagrangian from λ− to λ+ implying the existence of lagrangian between corresponding satellites. 4.1. the legendrian satellite construction. we begin by reviewing the construction of legendrian satellite; see also appendix] and section 2.2]. to construct legendrian satellite, begin by identifying the open solid torus with the 1-jet space of the circle, ∼= equipped with the contact form where x, are the coordinates in and is the coordinate in r. similar to the situation for ∼= we can recover legendrian knot in from its front projection in which is typically drawn by representing as an interval with its endpoints identiﬁed. given an oriented legendrian companion knot and oriented legendrian pattern knot the legendrian neighborhood theorem says that has standard neighborhood n(λ) such that there is contactomorphism n(λ). the legendrian satellite, s(λ, p), is then the image κ(p). the front projection of s(λ, p) is as shown in figure 14. in particular, suppose that the front projection of the pattern intersects the vertical line at the boundary of the interval times. we then make an n-copy of by using n-disjoint copies of that all diﬀer by small translations in the z-direction. take point on the front projection of that is oriented from left to right, cut the front of the n-copy open along the n-copy at that point, and insert the front diagram of p. the orientation on the satellite s(λ, p) is induced by the orientation on p. s(λ, p) figure 14. example of legendrian satellite. remark 5. the satellite operation often makes legendrian knots “nicer”; for example, in figure 14, the companion is stabilized and does not admit an augmentation or normal ruling. however, the satellite s(λ, p) does admit normal ruling and augmentation. 16 constructions of lagrangian cobordisms 4.2. lagrangian cobordisms for satellites. in theorem 2.4], cornwell, ng, and sivek, show that lagrangian concordance is preserved by the legendrian satellite operation. theorem suppose is legendrian knot. if there exists lagrangian concordance from lengendrian knot λ− to lengendrian knot λ+, then there exists lagrangian concordance from s(λ−, p) to s(λ+, p). in particular, as shown in figure 8, there is lagrangian concordance from λ−, which is the legendrian unknot with −1, to λ+, which is the legendrian with maximal −1. using the legendrian “clasp” tangle as shown in figure 14 which produces the legendrian whitehead double we can conclude that there exists lagrangian concordance from s(λ−, p) to s(λ+, p). in fact, s(λ−, p) is the positive trefoil with 1. thus theorem implies that there exists lagrangian concordance between the legendrian knots in figure 2. conjecture 10 conjecture 3.3]). the lagrangian concordance from s(λ−, p) to s(λ+, p) built through the satellite construction is not decomposable. theorem has been extended to higher genus cobordisms by guadagni, sabloﬀ, and yacavone in to state their theorem, we need to ﬁrst introduce the notion of “twisting” and then closing tangle 1]. given legendrian tangle 1], ∆t is the tangle obtained by adding the tangle and the full twist tangle ∆, which is illustrated in figure 15; the tangle ∆tt can be thought of as followed by full twists. given legendrian tangle 1], will denote the associated closure to legendrian link. ... figure 15. for an n-stranded tangle, repeating this basic tangle times produces full twist. theorem 11 suppose 1] is legendrian tangle whose closure is legendrian knot. if there exists lagrangian cobordism from λ− to λ+ of genus g(l), then there exists lagrangian cobordism lt from s(λ−, to s(λ+, ∆t). in fact, theorem 11 can be generalized to use the closure of diﬀerent tangles t− and t+ that are lagrangian cobordant; for details, see constructions of lagrangian cobordisms 17 remark 6. it is natural to wonder if, along the lines of conjecture 10, this higher genus satellite procedure can create additional candidates for legendrians that can be connected by lagrangian cobordism but not by decomposable lagrangian cobordism. in theorem 1.5], it is shown that if the cobordism from λ− to λ+ is decomposable and the handles in the decomposition satisfy conditions known as “property a”, then the corresponding satellites s(λ−, and s(λ+, ∆p) will also be connected by decomposable lagrangian cobordism. in particular, if there exists decomposable cobordism that does not satisfy property and is not isotopic to cobordism that satisﬁes property a, then the satellite construction would lead to higher genus candidate that generalizes conjecture 10. 4.3. obstructions to cobordisms through satellites. in section 2.3, some known obstructions to the existence of lagrangian cobordism were mentioned. as mentioned in remark 3, number of these obstructions require λ− to admit an augmentation, and thus in particular λ− must be nonstabilized. however, as mentioned in remark 5, it is possible for the satellite of legendrian to admit an augmentation even if does not. so the contrapositive of theorem provides potential strategy for further obstructions to the existence of lagrangian cobordism when λ− does not admit an augmentation. for example, motivated by obstruction (4) in section 2.3, one can ask: can count of augmentations give an obstruction to the existence of lagrangian concordance from s(λ−, p) to s(λ+, p) and thereby obstruct the existence of lagrangian concordance from λ− to λ+? in fact, this augmentation count will not likely provide further obstruction: simple computation shows that when is stabilized enough, the number of augmentations of s(λ, p) only depends on the legendrian pattern p. if trying to pursue this path to obtain further obstructions to lagrangian cobordisms, it is useful to keep in mind the following result of ng that shows the dga of the satellite of legendrian might only remember the underlying knot type of λ. theorem 12 suppose λ1 and λ2 are stabilized legendrian knots that are of the same topological knot type and have the same thurston-bennequin and rotation numbers. for legendrian pattern whose front intersects vertical line by two points, the dgas of p) and p) are equivalent. 5. candidates for non-decomposable lagrangian cobordisms now that we have developed some ways to construct lagrangian cobordism through combinatorial moves and satellites, we state some theorems that show if lagrangian cobordism does exist, then it cannot be decomposable: this addresses motivating question (1). while we discuss these theorems, it is useful to keep in mind the known obstructions to lagrangian cobordisms that were mentioned in section 2.3. 18 constructions of lagrangian cobordisms 5.1. candidates for non-decomposable lagrangian cobordisms from normal rulings. one simple way to show that two legendrians λ± cannot be connected by decomposable lagrangian cobordism comes from count of “combinatorial” rulings. roughly, normal ruling of legendrian is “decomposition” of the front projection into pairs of paths from left cusps to right cusps such that (1) each pair of paths starts from common left cusp and ends at common right cusp, has no further intersections, and bounds topological disk whose boundary is smooth everywhere other than at the cusps and certain crossings called switches, and (2) near switch, the pair of paths must be arranged as in one of the diagrams in figure 16; observe that near the switch, vertical slices of the associated disks are either disjoint or the slices of one are contained in the slices of the other. formal deﬁnitions of normal rulings can be found in, for example, and figure 16. normal rulings near switch. as an illustration, all normal rulings of particular legendrian trefoil are shown in figure 17. figure 17. all normal rulings of this positive legendrian trefoil. for each normal ruling r, let and d(r) be the number of switches and number of disks, respectively. by the ruling polynomial is where the sum is over all the normal rulings, is an invariant of under legendrian isotopy. normal rulings and augmentations are closely related even though they are deﬁned in very diﬀerent ways constructions of lagrangian cobordisms 19 we have the following obstruction to decomposable cobordisms in terms of normal rulings. theorem 13. if λ− has normal rulings and λ+ has normal rulings with n, then there is no decomposable lagrangian cobordism from λ− to λ+. proof. one can compare the number of normal rulings of the two ends for the decomposable moves, as shown in figure 18. thus any normal ruling of λ− induces normal ruling of λ+. diﬀerent normal rulings of λ− induce diﬀerent normal rulings of λ+. therefore the number of normal rulings of λ+ is bigger than or equal to the number of normal rulings of λ−. figure 18. comparison of normal rulings for decomposable moves. here is strategy to show the existence of legendrians that can be connected by lagrangian cobordism but not by one that is decomposable. strategy 1. choose legendrians λ± such that: (1) λ+ has fewer graded normal rulings than λ−, and (2) it is possible to construct, via combination of the combinatorial constructions from section or the satellite construction from section 4, lagrangian cobordism from λ− to λ+. remark 7. if λ± admit normal rulings, they will admit augmentations from section 2.3 obstructions we then know that if there is lagrangian cobordism from λ− to λ+, their ruling polynomials satisfy for any that is power of prime number. satisfying condition (1) in strategy means that the polynomial on the right side of the inequality has fewer terms than the polynomial on the left side of the inequality. if following this approach, it may be helpful to start by ﬁrst ﬁnding pair of positive integer coeﬃcient polynomials that satisfy this inequality and condition (1) at the same time. one can start with checking the ruling polynomials of small crossing number legendrian knots on 5.2. candidates for non-decomposable lagrangian concordances from topology. observe that any decomposable lagrangian concordance will be smooth ribbon concordance. thus it is potentially possible to use known obstructions to ribbon concordances to ﬁnd examples of smooth knots whose legendrian representatives cannot be connected by decomposable lagrangian 20 constructions of lagrangian cobordisms concordance: constructing lagrangian concordance between very stabilized legendrian representatives of these knot types, via the combinatorial techniques of section or geometric techniques of section 4, will give an example of an exact lagrangian concordance between knots that cannot be connected by decomposable lagrangian concordance. for example, it is known zem19, that the only knot that admits ribbon concordance to the unknot is the unknot itself. this has as corollary the following obstruction to decomposable lagrangian concordance. theorem 14 theorem 3.2]). if λ− is topologically non-trivial and λ+ is topologically an unknot, then there is no decomposable lagrangian concordance from λ− to λ+. example 15. to illustrate this theorem, here is possible low crossing number legendrian knot to examine as λ−. consider the topological knot 61 which is slice and ribbon. its maximum legendrian representative λ61 (see figure 19) has −5 and 0. the dga of this legendrian admits an augmentation, and thus λ61 does not admit lagrangian cap; see obstructions (6) in section 2.3. since we are trying to construct legendrian λ− that could be lagrangian concordant to stabilized unknot, which might have lagrangian cap, we will add some stabilizations that will prevent augmentations and thereby allow the possibility of lagrangian cap. if we now add positive and negative stabilization to λ61, we get knot λ± 61 with −7 and 0, which has no augmentation and is still topologically the knot 61. if, by sequence of moves in section 3, one can construct concordance from λ± 61 to the −7 stabilized unknot, then by theorem 14 this lagrangian concordance will not be decomposable; see figure 20. in fact, one can stabilize λ61 as many times as we wish resulting in and r(λ−) and try, using the combinatorial constructions of section 3, to construct lagrangian concordance to λ+, where λ+ is legendrian unknot with and r(λ+) r. if possible, such construction would prove the existence of non-decomposable lagrangian concordance. figure 19. front diagram of λ61. there are additional results from topology that give obstructions to the existence of ribbon concordances. for example, as shown by gilmer and generalized by friedl and powell [fpar], if k− is ribbon concordant to constructions of lagrangian cobordisms 21 figure 20. any lagrangian concordance from the doubly stabilized λ61 to the −7, legendrian unknot would necessarily be non-decomposable. k+, then the alexander polynomial of k− divides the alexander polynomial of k+. we can invoke these results in strategy to show the existence of non-decomposable lagrangian concordances. strategy 2. (1) use results from smooth topology to ﬁnd examples of smooth knots k± such that k− is not ribbon concordant to k+. (2) for any pair of legendrian representatives λ± of the knot type k±, even highly stabilized, use combination of the combinatorial moves described in section to construct lagrangian concordance from λ− to λ+. the example with the knot 61 given above is concrete example to try to apply this strategy with k− 61 and k+ being an unknot. possible example when k+ is non-trivial is the following. example 16. let k− be the connect sum of the right- and left-handed trefoils, k− tr#tl, and let k+ be the connect sum of the ﬁgure knot with itself, k+ these knots are concordant but there is no ribbon concordance from k− to k+, as ﬁrst shown by gordon choose legendrian representatives λ± of k± such that and r(λ−) r(λ+); note that λ± can be very stabilized. if we can construct lagrangian concordance from λ− to λ+, via the combinatorial moves of section 3, then we will have shown the existence of pair of legendrians that are (exactly, orientably) lagrangian concordant but cannot be connected by decomposable lagrangian concordance. remark 8. some known obstructions to ribbon concordance are, in fact, obstructions to generalizations of ribbon concordance, namely strong homotopy ribbon concordance and homotopy ribbon concordance. strong homotopy ribbon concordance is one whose complement is ribbon, i.e., can be built with only 1-handles and 2-handles. homotopy ribbon concordance from k− to k+ is concordance where the induced map on π1 of the complement of k− (resp. k+) injects (resp. surjects) into π1 of the complement of the concordance. gordon showed that ribbon concordant =⇒ strong homotopy ribbon concordant =⇒ homotopy ribbon concordant. 22 constructions of lagrangian cobordisms there have been number of recent results obstructing (homotopy or strong homotopy) ribbon concordances from heegaard-floer and khovanov homology [zem19, these results play an important role in strategy 2. 5.3. candidates for non-decomposable lagrangian cobordisms from grid invariants. some candidates for non-decomposable lagrangian cobordisms of higher genus come from knot floer homology. using the grid formulation of knot floer homology and thurston deﬁned legendrian invariants of legendrian link called grid invariants, which are elements in the hat ﬂavor of knot floer homology of �λ+(λ), �λ−(λ) λ). for more background, see baldwin, lidman, and wong [blwar] have shown that these grid invariants can be used to obstruct the existence of decomposable lagrangian cobordisms. theorem 17 ([blwar, theorem 1.2] ). suppose that λ± are legendrian links in such that either (1) �λ+(λ+) and �λ+(λ−) ̸= 0, or (2) �λ−(λ+) and �λ−(λ−) ̸= 0. then there is no decomposable lagrangian cobordism from λ− to λ+. remark 9. by in the standard contact manifold the grid invariants agree with the loss invariant the loss invariant is functorial on lagrangian concordances by bsar]. thus theorem 17 would also obstruct the existence of general lagrangian concordances and not only the decomposable ones. to ﬁnd non-decomposable cobordisms using obstructions from [blwar], we should focus on non-zero genus cobordisms. using the facts that the grid invariants are non-zero for the −1 legendrian unknot and that �λ+(λ+) (resp. �λ−(λ+)) vanish for positively (negatively) stabilized legendrian links, theorem 17 gives the following corollary. corollary 18 ([blwar, corollaries 1.3, 1.4]). (1) if is legendrian link such that �λ+(λ) or �λ−(λ) 0, then there is no decomposable lagrangian ﬁlling of λ. (2) suppose λ± are legendrian links such that either (a) �λ+(λ−) ̸= and λ+ is the positive stabilization of legendrian link, or (b) �λ−(λ−) ̸= and λ+ is the negative stabilization of legendrian link. then there is no decomposable lagrangian cobordism from λ− to λ+. this provides another strategy to show the existence of legendrians λ± that are lagrangian cobordant but cannot be connected by decomposable lagrangian cobordism. constructions of lagrangian cobordisms 23 strategy 3. (1) find legendrians λ± satisfying the grid invariants conditions of corollary 18 and theorem 17 such that there are no known obstructions, as described in section 2.3, to the existence of lagrangian cobordism from λ− to λ+. (2) use combination of the combinatorial moves described in section to construct lagrangian cobordism from λ− to λ+. example 19. concrete examples mentioned in [blwar, section 4.1] can be used for strategy 3. let λ0, λ1 be the legendrian m(10132) knots and legendrian knots shown in figures and 3]. modify them with pattern shown in [blwar, figure 13] to get λ′ and λ′ 1, which are of knot type and (or its mirror), respectively. for i, 0, we have i) and r(λ′ i) r(λi). there is no decomposable lagrangian cobordism from (1) λ0 to λ′ 1, or (2) λ1 to λ′ 0. if we can construct, using the combinatorial techniques of section 3, lagrangian cobordism (necessarily of genus 1) from λ0 to λ′ or from λ1 to λ′ 0, then we will have found non-decomposable lagrangian cobordisms. example 20. in [blwar, section 4.3], the authors provide an inﬁnite family of pairs of legendrian knots where there does not exist decomposable lagrangian cobordism between them. remark 10. in strategies and 3, we emphasized the construction of lagrangian cobordisms using the combinatorial techniques of section 3. it would be interesting to know if the geometric constructions of section could also be used to show the existence of lagrangian from the theory of normal rulings, topology, or grid invariants, that are known to not be decomposable. 5.4. non-decomposable candidates through surgery. an additional strategy to show the existence of non-decomposable lagrangian ﬁlling comes from understanding properties of the contact manifold that is obtained from surgery on the legendrian knot. in particular, conway, etnyre, and tosun [cetar] have detected relationship between lagrangian ﬁllings of legendrian and symplectic ﬁllings of the contact manifold obtained by performing particular type of surgery on the legendrian. theorem 21 ([cetar, theorem 1.1]). there is lagrangian disk ﬁlling of λ+ if and only if the contact +1-surgery on λ+ produces contact manifold that is strongly symplectically ﬁllable. if λ+ has decomposable lagrangian ﬁlling, then the ﬁlling can be taken to be stein. in fact, [cetar] also shows that ﬁlling will be stein ﬁlling if and only if λ+ bounds regular lagrangian disk: lagrangian disk is regular if there is liouville vector ﬁeld that is tangent to the disk. any decomposable lagrangian ﬁlling is regular. 24 constructions of lagrangian cobordisms we now see another strategy to construct non-decomposable lagrangian ﬁlling. strategy 4. find legendrian such that the +1-surgery on produces contact manifold that is strongly symplectically ﬁllable but does not admit stein ﬁlling. an issue with this approach is lack of examples: there are very few manifolds which carry strongly ﬁllable but not stein ﬁllable contact structures. the main examples are the surgeries on the positive and negative trefoils; see works by ghiggini and tosun [tos20]. however it is not obvious whether any of these contact structures are contact +1 surgery on legendrian knot in 6. conclusion the desire to understand the ﬂexibility and rigidity of lagrangian submanifolds has led to great deal of interesting research in symplectic topology. similarly, trying to understand constructions of and obstructions to lagrangian cobordisms has led to many interesting results. at this point, we have few concrete answers to the motivating questions stated in our introduction. in particular, regarding motivating question (1), there are presently many candidates for legendrians λ± that can be connected by lagrangian cobordism but not by decomposable lagrangian cobordism: by understanding all the obstructions to lagrangian cobordisms, one can come up with some good candidates. when trying and failing to construct lagrangian cobordism between given pair, one may gain intuition for additional obstructions to lagrangian cobordisms that are waiting to be discovered.'"
      ]
     },
     "execution_count": 12,
     "metadata": {},
     "output_type": "execute_result"
    }
   ],
   "source": [
    "question = \"What is a contact manifold\"\n",
    "data['Text']"
   ]
  },
  {
   "cell_type": "code",
   "execution_count": null,
   "id": "d993a83c-cae0-44de-ae8e-2939e5bdd85f",
   "metadata": {},
   "outputs": [],
   "source": []
  },
  {
   "cell_type": "code",
   "execution_count": null,
   "id": "4df5a74d-94b7-4e87-9ac4-b1ec4227d059",
   "metadata": {},
   "outputs": [],
   "source": []
  },
  {
   "cell_type": "code",
   "execution_count": 1,
   "id": "82ec854f-c7e9-42df-bbd8-971976111eae",
   "metadata": {
    "tags": []
   },
   "outputs": [
    {
     "name": "stderr",
     "output_type": "stream",
     "text": [
      "/Users/peterargo/anaconda3/envs/myenv/lib/python3.8/site-packages/tqdm/auto.py:21: TqdmWarning: IProgress not found. Please update jupyter and ipywidgets. See https://ipywidgets.readthedocs.io/en/stable/user_install.html\n",
      "  from .autonotebook import tqdm as notebook_tqdm\n"
     ]
    }
   ],
   "source": [
    "tokenizer = BertTokenizer.from_pretrained('bert-base-uncased')"
   ]
  },
  {
   "cell_type": "code",
   "execution_count": 8,
   "id": "8bd7f22d-683a-4ff6-b560-e282ba601151",
   "metadata": {
    "tags": []
   },
   "outputs": [
    {
     "name": "stdout",
     "output_type": "stream",
     "text": [
      "./test_pdfs/2101.00031.pdf\n",
      "./test_pdfs/2101.01089.pdf\n",
      "./test_pdfs/2101.00182.pdf\n",
      "./test_pdfs/2101.00525.pdf\n",
      "./test_pdfs/2101.01017.pdf\n",
      "./test_pdfs/2101.00005.pdf\n",
      "./test_pdfs/2101.00763.pdf\n",
      "./test_pdfs/2101.01291.pdf\n",
      "./test_pdfs/2101.00831.pdf\n",
      "./test_pdfs/2101.01094.pdf\n",
      "./test_pdfs/2101.00572.pdf\n",
      "processing text...\n",
      "making lower-case...\n",
      "Removing non-text elements (extra whitespaces)...\n",
      "Removing unnecessary whitespace and special characters...\n",
      "Removing line breaks...\n",
      "Removing gibberish...\n",
      "Removing unicode...\n",
      "remove single letters or super large words (so big they don't make sense)...\n",
      "done cleaning.\n",
      "\n",
      "tokenize the processed text...\n",
      "['Abstract', 'Abstract_Original', 'sha_256', 'language', 'language_probability', 'Authors', 'Title', 'url', 'date', 'token_embeddings']\n"
     ]
    }
   ],
   "source": [
    "directory = './test_pdfs'\n",
    "df = pdfs_to_df(directory)\n",
    "df = tokenize_df_of_texts(df)\n",
    "\n",
    "drop_cols = [col for col in df.columns if col not in ['Document', 'Text', 'Original_Text', 'Path', 'tokens']]\n",
    "print(drop_cols)\n",
    "\n",
    "df = df.drop(columns=drop_cols)"
   ]
  },
  {
   "cell_type": "code",
   "execution_count": 9,
   "id": "f382f90c-6e02-4e38-a8ff-1eae94c1c4f7",
   "metadata": {
    "tags": []
   },
   "outputs": [],
   "source": [
    "# Example data\n",
    "train_texts = df['tokens'].to_list()[0:8]  # List of your tokenized texts\n",
    "train_labels = df['tokens'].to_list()[8:]  # List of corresponding labels (e.g., relevance to query)"
   ]
  },
  {
   "cell_type": "code",
   "execution_count": 13,
   "id": "8e0d5d4b-9cd9-4cc5-a691-794d5671feb9",
   "metadata": {
    "tags": []
   },
   "outputs": [],
   "source": [
    "# Tokenize text data and create input features\n",
    "input_ids = []\n",
    "attention_masks = []\n",
    "for text in train_texts:\n",
    "    encoded_text = tokenizer.encode_plus(\n",
    "        text,\n",
    "        add_special_tokens=True,\n",
    "        max_length=128,\n",
    "        pad_to_max_length=True,\n",
    "        return_attention_mask=True,\n",
    "        return_tensors='pt',\n",
    "    )\n",
    "    input_ids.append(encoded_text['input_ids'])\n",
    "    attention_masks.append(encoded_text['attention_mask'])\n",
    "\n"
   ]
  },
  {
   "cell_type": "code",
   "execution_count": null,
   "id": "9fa7eb8a-4989-4ba4-82f9-db1d378d23dd",
   "metadata": {},
   "outputs": [],
   "source": []
  },
  {
   "cell_type": "code",
   "execution_count": null,
   "id": "330f9583-ca50-4cc2-ba3f-e59279d1722a",
   "metadata": {},
   "outputs": [],
   "source": [
    "input_ids = torch.cat(input_ids, dim=0)\n",
    "attention_masks = torch.cat(attention_masks, dim=0)\n",
    "labels = torch.tensor(train_labels)\n",
    "\n",
    "# Create a dataset and dataloader\n",
    "dataset = TensorDataset(input_ids, attention_masks, labels)\n",
    "dataloader = DataLoader(dataset, batch_size=32, shuffle=True)\n"
   ]
  }
 ],
 "metadata": {
  "kernelspec": {
   "display_name": "Python 3 (ipykernel)",
   "language": "python",
   "name": "python3"
  },
  "language_info": {
   "codemirror_mode": {
    "name": "ipython",
    "version": 3
   },
   "file_extension": ".py",
   "mimetype": "text/x-python",
   "name": "python",
   "nbconvert_exporter": "python",
   "pygments_lexer": "ipython3",
   "version": "3.8.17"
  }
 },
 "nbformat": 4,
 "nbformat_minor": 5
}
